{
 "cells": [
  {
   "cell_type": "code",
   "execution_count": 1,
   "id": "c03257e8-fdce-44e0-8738-d36a35f1c94f",
   "metadata": {
    "collapsed": true,
    "jupyter": {
     "outputs_hidden": true
    },
    "tags": []
   },
   "outputs": [],
   "source": [
    "# 1.\n",
    "from nltk import CFG\n",
    "from nltk.parse import RecursiveDescentParser, ChartParser"
   ]
  },
  {
   "cell_type": "code",
   "execution_count": 2,
   "id": "9147a52e-1a90-47d8-a5c9-4dad19a44717",
   "metadata": {
    "collapsed": true,
    "jupyter": {
     "outputs_hidden": true
    },
    "tags": []
   },
   "outputs": [],
   "source": [
    "# 2. a.\n",
    "\n",
    "# Define the context-free grammar\n",
    "grammar_string = \"\"\"\n",
    "    S -> NP VP\n",
    "    NP -> Det N | Det N PP | 'I'\n",
    "    VP -> V NP | VP PP\n",
    "    PP -> P NP\n",
    "    Det -> 'the' | 'a'\n",
    "    N -> 'dog' | 'cat' | 'man' | 'woman' | 'telescope'\n",
    "    V -> 'chased' | 'saw' | 'bit'\n",
    "    P -> 'in' | 'on' | 'with'\n",
    "\"\"\"\n",
    "\n",
    "# Create a CFG from the grammar string\n",
    "cfg = CFG.fromstring(grammar_string)"
   ]
  },
  {
   "cell_type": "code",
   "execution_count": 3,
   "id": "abc785d3-04d2-4e2f-9311-6720e26da8fb",
   "metadata": {
    "collapsed": true,
    "jupyter": {
     "outputs_hidden": true
    },
    "tags": []
   },
   "outputs": [
    {
     "name": "stdout",
     "output_type": "stream",
     "text": [
      "              S               \n",
      "      ________|_____           \n",
      "     |              VP        \n",
      "     |         _____|___       \n",
      "     NP       |         NP    \n",
      "  ___|___     |      ___|___   \n",
      "Det      N    V    Det      N \n",
      " |       |    |     |       |  \n",
      "the     cat chased the     dog\n",
      "\n"
     ]
    }
   ],
   "source": [
    "# 3. \n",
    "sentence = \"the cat chased the dog\"\n",
    "# Create parser\n",
    "parser = ChartParser(cfg)\n",
    "\n",
    "# Split sentence\n",
    "split_sentence = sentence.split()\n",
    "for tree in parser.parse(split_sentence):\n",
    "    tree.pretty_print()"
   ]
  },
  {
   "cell_type": "code",
   "execution_count": 4,
   "id": "eeae3181-6832-4929-b177-37778bd1d634",
   "metadata": {
    "collapsed": true,
    "jupyter": {
     "outputs_hidden": true
    },
    "tags": []
   },
   "outputs": [
    {
     "name": "stdout",
     "output_type": "stream",
     "text": [
      "     S                                    \n",
      "  ___|___________                          \n",
      " |               VP                       \n",
      " |        _______|________                 \n",
      " |       VP               PP              \n",
      " |    ___|___         ____|___             \n",
      " |   |       NP      |        NP          \n",
      " |   |    ___|___    |     ___|______      \n",
      " NP  V  Det      N   P   Det         N    \n",
      " |   |   |       |   |    |          |     \n",
      " I  saw the     man with the     telescope\n",
      "\n",
      "     S                                \n",
      "  ___|_______                          \n",
      " |           VP                       \n",
      " |    _______|___                      \n",
      " |   |           NP                   \n",
      " |   |    _______|____                 \n",
      " |   |   |   |        PP              \n",
      " |   |   |   |    ____|___             \n",
      " |   |   |   |   |        NP          \n",
      " |   |   |   |   |     ___|______      \n",
      " NP  V  Det  N   P   Det         N    \n",
      " |   |   |   |   |    |          |     \n",
      " I  saw the man with the     telescope\n",
      "\n"
     ]
    }
   ],
   "source": [
    "# 3. another sentence with ambiguity\n",
    "sentence = \"I saw the man with the telescope\"\n",
    "# Create parser\n",
    "parser = ChartParser(cfg)\n",
    "\n",
    "# Split sentence\n",
    "split_sentence = sentence.split()\n",
    "for tree in parser.parse(split_sentence):\n",
    "    tree.pretty_print()"
   ]
  },
  {
   "cell_type": "code",
   "execution_count": 5,
   "id": "bbc18ad0-4874-4e75-a023-b24fece4a3ca",
   "metadata": {
    "collapsed": true,
    "jupyter": {
     "outputs_hidden": true
    },
    "tags": []
   },
   "outputs": [],
   "source": [
    "# 4.\n",
    "# 4. a. = Due the recursive definition of the VP.\n",
    "# 4. b. = If it had more than one parse tree, it means that the sentenece is-\n",
    "# -ambigous. since more than one tree is there for the sentence the parser-\n",
    "# -cannot verify the grammar of the sentence."
   ]
  },
  {
   "cell_type": "code",
   "execution_count": 6,
   "id": "ac6eea98-a591-4a19-a46d-adc5e092a3e2",
   "metadata": {
    "tags": []
   },
   "outputs": [
    {
     "name": "stdout",
     "output_type": "stream",
     "text": [
      "     S                                \n",
      "  ___|_______                          \n",
      " |           VP                       \n",
      " |    _______|___                      \n",
      " |   |           NP                   \n",
      " |   |    _______|____                 \n",
      " |   |   |   |        PP              \n",
      " |   |   |   |    ____|___             \n",
      " |   |   |   |   |        NP          \n",
      " |   |   |   |   |     ___|______      \n",
      " NP  V  Det  N   P   Det         N    \n",
      " |   |   |   |   |    |          |     \n",
      " I  saw the man with the     telescope\n",
      "\n"
     ]
    }
   ],
   "source": [
    "# 5. a. b.\n",
    "# Define the context-free grammar\n",
    "# Added VP -> V PP, PP -> P NP production to attach PP to VP\n",
    "# which removes recursive definitioon of VP.\n",
    "grammar_string = \"\"\"\n",
    "    S -> NP VP\n",
    "    NP -> Det N | Det N PP | 'I'\n",
    "    VP -> V NP | V PP\n",
    "    PP -> P NP\n",
    "    Det -> 'the' | 'a'\n",
    "    N -> 'dog' | 'cat' | 'man' | 'woman' | 'telescope'\n",
    "    V -> 'chased' | 'saw' | 'bit'\n",
    "    P -> 'in' | 'on' | 'with'\n",
    "\"\"\"\n",
    "\n",
    "# Create a CFG from the grammar string\n",
    "cfg = CFG.fromstring(grammar_string)\n",
    "\n",
    "sentence = \"I saw the man with the telescope\"\n",
    "# Create parser\n",
    "parser = ChartParser(cfg)\n",
    "\n",
    "# Split sentence\n",
    "split_sentence = sentence.split()\n",
    "for tree in parser.parse(split_sentence):\n",
    "    tree.pretty_print()"
   ]
  },
  {
   "cell_type": "code",
   "execution_count": 7,
   "id": "5099aacd-5d48-483a-aac5-371111f1c024",
   "metadata": {
    "collapsed": true,
    "jupyter": {
     "outputs_hidden": true
    },
    "tags": []
   },
   "outputs": [],
   "source": [
    "# 5. c = By modifying the grammer we remove ambiguity, which produces only-\n",
    "# -a single parse tree."
   ]
  },
  {
   "cell_type": "code",
   "execution_count": 8,
   "id": "caa4cc74-0ea5-4ab3-8405-5c3cf9002ddf",
   "metadata": {
    "collapsed": true,
    "jupyter": {
     "outputs_hidden": true
    },
    "tags": []
   },
   "outputs": [
    {
     "name": "stdout",
     "output_type": "stream",
     "text": [
      "කමල් ගිය අවුරුද්දේ ජනවාරි මාසේ ඉස්කෝලෙදි බොහොම ලස්සනට නැටුවා \n"
     ]
    }
   ],
   "source": [
    "grammar_string = \"\"\"\n",
    "S -> NP VP\n",
    "NP -> N | D N | A N | A N P | D N P | D A N P | N P | N N\n",
    "NP -> Pn | Pr\n",
    "VP -> V | NP V | Advp V | Advp Advp V | Advp Adv Advp V\n",
    "Advp -> Adv | Deg Adv | N N N | N N | N | Pg N N N\n",
    "N -> \"බල්ලා\"|\"මිනිසා\"|\"මේසය\"|\"වන්න\"|\"බත්\"|\"ඊයේ\"|\"පෙරේදා\"|\"සඳුදා\"|\"බදාදා\"|\"ඉරිදා\"|\"ජනවාරි\"|\"පෙබරවාරි\"|\"සනියේ\"|\"මාසේ\" | \"අවුරුද්දේ\"\n",
    "D -> \"ඒ\"|\"මේ\"|\"අර\"|\"ඔය\"|\"සමහර\"\n",
    "A -> \"උස\"|\"හොඳ\"|\"නරක\"|\"කොට\" \"ලස්සන\"\n",
    "P -> \"උඩ\"|\"යට\"|\"මන\"\n",
    "Pn -> \"අමල්\"|\"කමල්\"|\"සමන්\"|\"සචිනි\"|\"මාලා\"|\"නාමල්\"\n",
    "Pr -> \"ඇය\" \"ඔවුන්\"|\"අපි\"/\"මම\"|\"ඌ\"|\"උන්\"|\"ඔබ\"|\"ඔබලා\"\n",
    "V -> \"කෑවා\"|\"බිව්වා\"|\"දැක්කා\"|\"ගියා\"|\"දිව්වා\"|\"වා\"|\"නැටුවා\"|\"කමු\"\n",
    "Adv -> \"ලස්සනට\" | \"කැනට\" | \"ඉක්මනට\" | \"වේගයෙන්\" | \"හෙමින්\" | \"පහසුවෙන්\" |\"පන්නියේදි\"|\"ඉස්කෝලෙදි\"|\"ගමේ දී\"|\"බස් එකේ දී\"|\"නුවරදි\" \n",
    "Deg -> \"බොහොම\" | \"හරිම\" | \"නොම\" | \"මාර\"\n",
    "PA -> \"කන\" | \"බොන\" | \"යන\" | \"එන\" | \"බලන\" | \"කියන\" | \"ලියන\" | \"නටන\" | \"කාපු\" | \"බීපු\" | \"නාපු\" |\"ආපු\" | \"ලියපු\" | \"කියවපු\" | \"කිව්ව\" | \"ලිව්ව\" | \"ආව\" | \"ගිය\" | \"නැටුව\"\n",
    "\"\"\"\n",
    "\n",
    "# Create a CFG from the grammar string\n",
    "cfg = CFG.fromstring(grammar_string)\n",
    "\n",
    "sentence1 = \"අපි බත් කමු\"\n",
    "sentence2 = \"කමල් ගිය අවුරුද්දේ ජනවාරි මාසේ ඉස්කෝලෙදි බොහොම ලස්සනට නැටුවා \"\n",
    "sentence3 = \"සමන් හරිම වේගයෙන් දිව්වා\"\n",
    "\n",
    "# Create parser\n",
    "parser = ChartParser(cfg)\n",
    "\n",
    "# Split sentence\n",
    "def print_parse_tree(sentence):\n",
    "    print(sentence)\n",
    "    split_sentence = sentence.split()\n",
    "    for tree in parser.parse(split_sentence):\n",
    "        tree.pretty_print()\n",
    "\n",
    "# print_parse_tree(sentence1)\n",
    "print_parse_tree(sentence2)"
   ]
  },
  {
   "cell_type": "code",
   "execution_count": 9,
   "id": "77e94982-6f12-4aac-a9d8-56175e43a78a",
   "metadata": {
    "collapsed": true,
    "jupyter": {
     "outputs_hidden": true
    },
    "tags": []
   },
   "outputs": [
    {
     "name": "stdout",
     "output_type": "stream",
     "text": [
      "අපි බත් කමු\n"
     ]
    }
   ],
   "source": [
    "print_parse_tree(sentence1)"
   ]
  },
  {
   "cell_type": "code",
   "execution_count": 10,
   "id": "b704fbb5-ee55-4d34-99e1-fab64c5af9f8",
   "metadata": {
    "collapsed": true,
    "jupyter": {
     "outputs_hidden": true
    },
    "tags": []
   },
   "outputs": [
    {
     "name": "stdout",
     "output_type": "stream",
     "text": [
      "කමල් ගිය අවුරුද්දේ ජනවාරි මාසේ ඉස්කෝලෙදි බොහොම ලස්සනට නැටුවා \n"
     ]
    }
   ],
   "source": [
    "print_parse_tree(sentence2)"
   ]
  },
  {
   "cell_type": "code",
   "execution_count": 15,
   "id": "665ae4fb-0471-493e-accf-e62d367a4634",
   "metadata": {
    "collapsed": true,
    "jupyter": {
     "outputs_hidden": true
    },
    "tags": []
   },
   "outputs": [
    {
     "name": "stdout",
     "output_type": "stream",
     "text": [
      "සමන් හරිම වේගයෙන් දිව්වා\n",
      "           S                 \n",
      "  _________|______            \n",
      " |                VP         \n",
      " |          ______|______     \n",
      " NP       Advp           |   \n",
      " |     ____|______       |    \n",
      " Pn  Deg         Adv     V   \n",
      " |    |           |      |    \n",
      "සමන් හරිම      වේගයෙන් දිව්වා\n",
      "\n"
     ]
    }
   ],
   "source": [
    "print_parse_tree(sentence3)"
   ]
  },
  {
   "cell_type": "code",
   "execution_count": null,
   "id": "c70d35a6-dc1f-4fa3-8773-9c3585a5160f",
   "metadata": {
    "collapsed": true,
    "jupyter": {
     "outputs_hidden": true
    }
   },
   "outputs": [],
   "source": []
  },
  {
   "cell_type": "code",
   "execution_count": null,
   "id": "0e46dfe2-984b-4a4b-a25e-a21bd32ca9a5",
   "metadata": {
    "collapsed": true,
    "jupyter": {
     "outputs_hidden": true
    }
   },
   "outputs": [],
   "source": []
  }
 ],
 "metadata": {
  "kernelspec": {
   "display_name": "Python 3 (ipykernel)",
   "language": "python",
   "name": "python3"
  },
  "language_info": {
   "codemirror_mode": {
    "name": "ipython",
    "version": 3
   },
   "file_extension": ".py",
   "mimetype": "text/x-python",
   "name": "python",
   "nbconvert_exporter": "python",
   "pygments_lexer": "ipython3",
   "version": "3.10.8"
  }
 },
 "nbformat": 4,
 "nbformat_minor": 5
}
