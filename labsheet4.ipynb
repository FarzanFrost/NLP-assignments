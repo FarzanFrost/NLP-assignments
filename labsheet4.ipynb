{
 "cells": [
  {
   "cell_type": "code",
   "execution_count": 1,
   "id": "963f3561-f983-4d36-a282-1ff29625a5e5",
   "metadata": {
    "collapsed": true,
    "jupyter": {
     "outputs_hidden": true
    },
    "tags": []
   },
   "outputs": [],
   "source": [
    "import nltk"
   ]
  },
  {
   "cell_type": "code",
   "execution_count": 2,
   "id": "0059fdce-4023-4ac8-8685-45c4ed3ec6e4",
   "metadata": {
    "collapsed": true,
    "jupyter": {
     "outputs_hidden": true
    },
    "tags": []
   },
   "outputs": [],
   "source": [
    "file0 = nltk.corpus.gutenberg.fileids()[0]\n",
    "emma_text = nltk.corpus.gutenberg.raw(file0)"
   ]
  },
  {
   "cell_type": "code",
   "execution_count": 3,
   "id": "469d8c60-1556-40b7-8a6b-bb73519786a5",
   "metadata": {
    "collapsed": true,
    "jupyter": {
     "outputs_hidden": true
    },
    "tags": []
   },
   "outputs": [],
   "source": [
    "tokens = nltk.wordpunct_tokenize(emma_text)\n",
    "words = [w.lower() for w in tokens]"
   ]
  },
  {
   "cell_type": "code",
   "execution_count": 4,
   "id": "545807fd-c3e3-4fec-8009-78e6cf40f2af",
   "metadata": {
    "collapsed": true,
    "jupyter": {
     "outputs_hidden": true
    },
    "tags": []
   },
   "outputs": [
    {
     "data": {
      "text/plain": [
       "['[',\n",
       " 'emma',\n",
       " 'by',\n",
       " 'jane',\n",
       " 'austen',\n",
       " '1816',\n",
       " ']',\n",
       " 'volum',\n",
       " 'i',\n",
       " 'chapter',\n",
       " 'i',\n",
       " 'emma',\n",
       " 'woodhous',\n",
       " ',',\n",
       " 'handsom',\n",
       " ',',\n",
       " 'clever',\n",
       " ',',\n",
       " 'and',\n",
       " 'rich',\n",
       " ',',\n",
       " 'with',\n",
       " 'a',\n",
       " 'comfort',\n",
       " 'home',\n",
       " 'and',\n",
       " 'happi',\n",
       " 'disposit',\n",
       " ',',\n",
       " 'seem',\n",
       " 'to',\n",
       " 'unit',\n",
       " 'some',\n",
       " 'of',\n",
       " 'the',\n",
       " 'best',\n",
       " 'bless',\n",
       " 'of',\n",
       " 'exist',\n",
       " ';',\n",
       " 'and',\n",
       " 'had',\n",
       " 'live',\n",
       " 'nearli',\n",
       " 'twenti',\n",
       " '-',\n",
       " 'one',\n",
       " 'year',\n",
       " 'in',\n",
       " 'the']"
      ]
     },
     "execution_count": 4,
     "metadata": {},
     "output_type": "execute_result"
    }
   ],
   "source": [
    "from nltk.stem import PorterStemmer\n",
    "stemmer = PorterStemmer()\n",
    "stemmed_tokens = [stemmer.stem(w) for w in tokens]\n",
    "stemmed_tokens[:50]"
   ]
  },
  {
   "cell_type": "code",
   "execution_count": 5,
   "id": "dc63b027-3ea5-4bc4-b68e-acf198b503b7",
   "metadata": {
    "collapsed": true,
    "jupyter": {
     "outputs_hidden": true
    },
    "tags": []
   },
   "outputs": [
    {
     "data": {
      "text/plain": [
       "['[',\n",
       " 'emma',\n",
       " 'by',\n",
       " 'jane',\n",
       " 'austen',\n",
       " '1816',\n",
       " ']',\n",
       " 'volum',\n",
       " 'i',\n",
       " 'chapter',\n",
       " 'i',\n",
       " 'emma',\n",
       " 'woodhous',\n",
       " ',',\n",
       " 'handsom',\n",
       " ',',\n",
       " 'clever',\n",
       " ',',\n",
       " 'and',\n",
       " 'rich',\n",
       " ',',\n",
       " 'with',\n",
       " 'a',\n",
       " 'comfort',\n",
       " 'home',\n",
       " 'and',\n",
       " 'happi',\n",
       " 'disposit',\n",
       " ',',\n",
       " 'seem',\n",
       " 'to',\n",
       " 'unit',\n",
       " 'some',\n",
       " 'of',\n",
       " 'the',\n",
       " 'best',\n",
       " 'bless',\n",
       " 'of',\n",
       " 'exist',\n",
       " ';',\n",
       " 'and',\n",
       " 'had',\n",
       " 'live',\n",
       " 'nearli',\n",
       " 'twenti',\n",
       " '-',\n",
       " 'one',\n",
       " 'year',\n",
       " 'in',\n",
       " 'the']"
      ]
     },
     "execution_count": 5,
     "metadata": {},
     "output_type": "execute_result"
    }
   ],
   "source": [
    "from nltk.stem import PorterStemmer\n",
    "stemmer = PorterStemmer()\n",
    "stemmed_words = [stemmer.stem(w) for w in words]\n",
    "stemmed_words[:50]"
   ]
  },
  {
   "cell_type": "code",
   "execution_count": 6,
   "id": "bca8510f-b1d5-49c9-a852-3a1b6223759c",
   "metadata": {
    "collapsed": true,
    "jupyter": {
     "outputs_hidden": true
    },
    "tags": []
   },
   "outputs": [
    {
     "data": {
      "text/plain": [
       "['[',\n",
       " 'emm',\n",
       " 'by',\n",
       " 'jan',\n",
       " 'aust',\n",
       " '1816',\n",
       " ']',\n",
       " 'volum',\n",
       " 'i',\n",
       " 'chapt',\n",
       " 'i',\n",
       " 'emm',\n",
       " 'woodh',\n",
       " ',',\n",
       " 'handsom',\n",
       " ',',\n",
       " 'clev',\n",
       " ',',\n",
       " 'and',\n",
       " 'rich',\n",
       " ',',\n",
       " 'with',\n",
       " 'a',\n",
       " 'comfort',\n",
       " 'hom',\n",
       " 'and',\n",
       " 'happy',\n",
       " 'disposit',\n",
       " ',',\n",
       " 'seem',\n",
       " 'to',\n",
       " 'unit',\n",
       " 'som',\n",
       " 'of',\n",
       " 'the',\n",
       " 'best',\n",
       " 'bless',\n",
       " 'of',\n",
       " 'ex',\n",
       " ';',\n",
       " 'and',\n",
       " 'had',\n",
       " 'liv',\n",
       " 'near',\n",
       " 'twenty',\n",
       " '-',\n",
       " 'on',\n",
       " 'year',\n",
       " 'in',\n",
       " 'the']"
      ]
     },
     "execution_count": 6,
     "metadata": {},
     "output_type": "execute_result"
    }
   ],
   "source": [
    "from nltk.stem import LancasterStemmer\n",
    "l_stemmer = LancasterStemmer()\n",
    "l_stemmed_tokens = [l_stemmer.stem(w) for w in tokens]\n",
    "l_stemmed_tokens[:50]"
   ]
  },
  {
   "cell_type": "code",
   "execution_count": 7,
   "id": "29128eac-16d2-4d9a-8677-02c0bad80b6e",
   "metadata": {
    "collapsed": true,
    "jupyter": {
     "outputs_hidden": true
    },
    "tags": []
   },
   "outputs": [
    {
     "data": {
      "text/plain": [
       "['[',\n",
       " 'emm',\n",
       " 'by',\n",
       " 'jan',\n",
       " 'aust',\n",
       " '1816',\n",
       " ']',\n",
       " 'volum',\n",
       " 'i',\n",
       " 'chapt',\n",
       " 'i',\n",
       " 'emm',\n",
       " 'woodh',\n",
       " ',',\n",
       " 'handsom',\n",
       " ',',\n",
       " 'clev',\n",
       " ',',\n",
       " 'and',\n",
       " 'rich',\n",
       " ',',\n",
       " 'with',\n",
       " 'a',\n",
       " 'comfort',\n",
       " 'hom',\n",
       " 'and',\n",
       " 'happy',\n",
       " 'disposit',\n",
       " ',',\n",
       " 'seem',\n",
       " 'to',\n",
       " 'unit',\n",
       " 'som',\n",
       " 'of',\n",
       " 'the',\n",
       " 'best',\n",
       " 'bless',\n",
       " 'of',\n",
       " 'ex',\n",
       " ';',\n",
       " 'and',\n",
       " 'had',\n",
       " 'liv',\n",
       " 'near',\n",
       " 'twenty',\n",
       " '-',\n",
       " 'on',\n",
       " 'year',\n",
       " 'in',\n",
       " 'the']"
      ]
     },
     "execution_count": 7,
     "metadata": {},
     "output_type": "execute_result"
    }
   ],
   "source": [
    "from nltk.stem import LancasterStemmer\n",
    "l_stemmer = LancasterStemmer()\n",
    "l_stemmed_words = [l_stemmer.stem(w) for w in words]\n",
    "l_stemmed_words[:50]"
   ]
  },
  {
   "cell_type": "code",
   "execution_count": 8,
   "id": "32b7153d-365d-413e-b77a-5466a77a089e",
   "metadata": {
    "collapsed": true,
    "jupyter": {
     "outputs_hidden": true
    },
    "tags": []
   },
   "outputs": [],
   "source": [
    "def stem(word):\n",
    "    for suffix in ['ing','ly','ed','ious','ies','ive','es','s']:\n",
    "        if word.endswith(suffix):\n",
    "            return word[:-len(suffix)]\n",
    "    return word"
   ]
  },
  {
   "cell_type": "code",
   "execution_count": 9,
   "id": "e4e14c6d-7d8a-4f8f-a79a-8a133dcd855f",
   "metadata": {
    "collapsed": true,
    "jupyter": {
     "outputs_hidden": true
    },
    "tags": []
   },
   "outputs": [
    {
     "data": {
      "text/plain": [
       "'friend'"
      ]
     },
     "execution_count": 9,
     "metadata": {},
     "output_type": "execute_result"
    }
   ],
   "source": [
    "stemmedword=stem('friends')\n",
    "stemmedword"
   ]
  },
  {
   "cell_type": "code",
   "execution_count": 10,
   "id": "658565cb-c230-45f2-a610-bb356a77058e",
   "metadata": {
    "collapsed": true,
    "jupyter": {
     "outputs_hidden": true
    },
    "tags": []
   },
   "outputs": [
    {
     "data": {
      "text/plain": [
       "['emma',\n",
       " 'by',\n",
       " 'jane',\n",
       " 'austen',\n",
       " '1816',\n",
       " ']',\n",
       " 'volume',\n",
       " 'i',\n",
       " 'chapter',\n",
       " 'i',\n",
       " 'emma',\n",
       " 'woodhouse',\n",
       " ',',\n",
       " 'handsome',\n",
       " ',',\n",
       " 'clever',\n",
       " ',',\n",
       " 'and',\n",
       " 'rich',\n",
       " ',',\n",
       " 'with',\n",
       " 'a',\n",
       " 'comfortable',\n",
       " 'home',\n",
       " 'and',\n",
       " 'happy',\n",
       " 'disposition',\n",
       " ',',\n",
       " 'seemed',\n",
       " 'to',\n",
       " 'unite',\n",
       " 'some',\n",
       " 'of',\n",
       " 'the',\n",
       " 'best',\n",
       " 'blessing',\n",
       " 'of',\n",
       " 'existence',\n",
       " ';',\n",
       " 'and',\n",
       " 'had',\n",
       " 'lived',\n",
       " 'nearly',\n",
       " 'twenty',\n",
       " '-',\n",
       " 'one',\n",
       " 'year',\n",
       " 'in',\n",
       " 'the',\n",
       " 'world',\n",
       " 'with',\n",
       " 'very',\n",
       " 'little',\n",
       " 'to',\n",
       " 'distress',\n",
       " 'or',\n",
       " 'vex',\n",
       " 'her',\n",
       " '.',\n",
       " 'she',\n",
       " 'wa',\n",
       " 'the',\n",
       " 'youngest',\n",
       " 'of',\n",
       " 'the',\n",
       " 'two',\n",
       " 'daughter',\n",
       " 'of',\n",
       " 'a',\n",
       " 'most',\n",
       " 'affectionate',\n",
       " ',',\n",
       " 'indulgent',\n",
       " 'father',\n",
       " ';',\n",
       " 'and',\n",
       " 'had',\n",
       " ',',\n",
       " 'in',\n",
       " 'consequence',\n",
       " 'of',\n",
       " 'her',\n",
       " 'sister',\n",
       " \"'\",\n",
       " 's',\n",
       " 'marriage',\n",
       " ',',\n",
       " 'been',\n",
       " 'mistress',\n",
       " 'of',\n",
       " 'his',\n",
       " 'house',\n",
       " 'from',\n",
       " 'a',\n",
       " 'very',\n",
       " 'early',\n",
       " 'period',\n",
       " '.',\n",
       " 'her']"
      ]
     },
     "execution_count": 10,
     "metadata": {},
     "output_type": "execute_result"
    }
   ],
   "source": [
    "wnl = nltk.WordNetLemmatizer()\n",
    "emmalemma=[wnl.lemmatize(t) for t in words]\n",
    "emmalemma[1:100]"
   ]
  },
  {
   "cell_type": "code",
   "execution_count": 11,
   "id": "54a278dc-4ba1-4abe-9803-2f1461692695",
   "metadata": {
    "collapsed": true,
    "jupyter": {
     "outputs_hidden": true
    },
    "tags": []
   },
   "outputs": [],
   "source": [
    "file0 = nltk.corpus.gutenberg.fileids()[0]\n",
    "emma_text = nltk.corpus.gutenberg.raw(file0)"
   ]
  },
  {
   "cell_type": "code",
   "execution_count": 12,
   "id": "7223e398-fa2d-4b27-8f61-8f306903da51",
   "metadata": {
    "collapsed": true,
    "jupyter": {
     "outputs_hidden": true
    },
    "tags": []
   },
   "outputs": [],
   "source": [
    "newemmatext = emma_text.replace('\\n', ' ')"
   ]
  },
  {
   "cell_type": "code",
   "execution_count": 13,
   "id": "5f18b815-4e1c-478f-8c3e-9b71aa5d52d7",
   "metadata": {
    "collapsed": true,
    "jupyter": {
     "outputs_hidden": true
    },
    "tags": []
   },
   "outputs": [
    {
     "data": {
      "text/plain": [
       "['Emma',\n",
       " 'by',\n",
       " 'Jane',\n",
       " 'Austen',\n",
       " '1816',\n",
       " 'VOLUME',\n",
       " 'I',\n",
       " 'CHAPTER',\n",
       " 'I',\n",
       " 'Emma',\n",
       " 'Woodhouse',\n",
       " 'handsome',\n",
       " 'clever',\n",
       " 'and',\n",
       " 'rich',\n",
       " 'with',\n",
       " 'a',\n",
       " 'comfortable',\n",
       " 'home',\n",
       " 'and',\n",
       " 'happy',\n",
       " 'disposition',\n",
       " 'seemed',\n",
       " 'to']"
      ]
     },
     "execution_count": 13,
     "metadata": {},
     "output_type": "execute_result"
    }
   ],
   "source": [
    "import re\n",
    "\n",
    "shorttext = newemmatext[:150]\n",
    "pword = re.compile('\\w+')\n",
    "re.findall(pword,shorttext)"
   ]
  },
  {
   "cell_type": "code",
   "execution_count": 14,
   "id": "d0244dfa-23fc-45e0-8771-da79e2ad7e23",
   "metadata": {
    "collapsed": true,
    "jupyter": {
     "outputs_hidden": true
    },
    "tags": []
   },
   "outputs": [
    {
     "data": {
      "text/plain": [
       "['U', 'S', 'A', 'poster', 'print', 'costs', '12', '40', 'with', '10', 'off']"
      ]
     },
     "execution_count": 14,
     "metadata": {},
     "output_type": "execute_result"
    }
   ],
   "source": [
    "specialtext = 'U.S.A. poster-print costs $12.40, with 10% off.'\n",
    "re.findall(pword, specialtext)"
   ]
  },
  {
   "cell_type": "code",
   "execution_count": 15,
   "id": "b72e0049-fb31-45bc-b03c-fd32ad3ae7fc",
   "metadata": {
    "collapsed": true,
    "jupyter": {
     "outputs_hidden": true
    },
    "tags": []
   },
   "outputs": [
    {
     "data": {
      "text/plain": [
       "[('U', ''),\n",
       " ('S', ''),\n",
       " ('A', ''),\n",
       " ('poster-print', '-print'),\n",
       " ('costs', ''),\n",
       " ('12', ''),\n",
       " ('40', ''),\n",
       " ('with', ''),\n",
       " ('10', ''),\n",
       " ('off', '')]"
      ]
     },
     "execution_count": 15,
     "metadata": {},
     "output_type": "execute_result"
    }
   ],
   "source": [
    "ptoken = re.compile('(\\w+(-\\w+)*)')\n",
    "re.findall(ptoken, specialtext)"
   ]
  },
  {
   "cell_type": "code",
   "execution_count": 16,
   "id": "6c80ad03-8274-4d25-9c6c-85bb8de5ecd2",
   "metadata": {
    "collapsed": true,
    "jupyter": {
     "outputs_hidden": true
    },
    "tags": []
   },
   "outputs": [
    {
     "data": {
      "text/plain": [
       "[('U.S.A.', 'A.')]"
      ]
     },
     "execution_count": 16,
     "metadata": {},
     "output_type": "execute_result"
    }
   ],
   "source": [
    "pabbrev = re.compile('(([A-Z]\\.)+)')\n",
    "re.findall(pabbrev, specialtext)"
   ]
  },
  {
   "cell_type": "raw",
   "id": "7d809e5a-749a-457b-8a2c-26dd31e33b14",
   "metadata": {
    "jupyter": {
     "outputs_hidden": true
    },
    "tags": []
   },
   "source": [
    "ptoken = re.compile('(\\w+(-\\w+)*|([A-Z]\\.)+)')\n",
    "re.findall(ptoken, specialtext)"
   ]
  },
  {
   "cell_type": "code",
   "execution_count": 18,
   "id": "5887cc70-db9a-44d1-b307-234c04272d26",
   "metadata": {
    "collapsed": true,
    "jupyter": {
     "outputs_hidden": true
    },
    "tags": []
   },
   "outputs": [
    {
     "data": {
      "text/plain": [
       "[('U.S.A.', 'A.', ''),\n",
       " ('poster-print', '', '-print'),\n",
       " ('costs', '', ''),\n",
       " ('12', '', ''),\n",
       " ('40', '', ''),\n",
       " ('with', '', ''),\n",
       " ('10', '', ''),\n",
       " ('off', '', '')]"
      ]
     },
     "execution_count": 18,
     "metadata": {},
     "output_type": "execute_result"
    }
   ],
   "source": [
    "ptoken = re.compile('(([A-Z]\\.)+|\\w+(-\\w+)*)')\n",
    ">>> re.findall(ptoken, specialtext)"
   ]
  },
  {
   "cell_type": "code",
   "execution_count": 19,
   "id": "1a11909d-cc9a-44a8-a1ea-27bd18e7a1e3",
   "metadata": {
    "collapsed": true,
    "jupyter": {
     "outputs_hidden": true
    },
    "tags": []
   },
   "outputs": [
    {
     "data": {
      "text/plain": [
       "[('U.S.A.', 'A.', '', ''),\n",
       " ('poster-print', '', '-print', ''),\n",
       " ('costs', '', '', ''),\n",
       " ('$12.40', '', '', '.40'),\n",
       " ('with', '', '', ''),\n",
       " ('10', '', '', ''),\n",
       " ('off', '', '', '')]"
      ]
     },
     "execution_count": 19,
     "metadata": {},
     "output_type": "execute_result"
    }
   ],
   "source": [
    "ptoken = re.compile(r'(([A-Z]\\.)+|\\w+(-\\w+)*|\\$?\\d+(\\.\\d+)?)')\n",
    "re.findall(ptoken, specialtext)"
   ]
  },
  {
   "cell_type": "code",
   "execution_count": 20,
   "id": "cc57bc4c-6175-44ec-9126-d1079b576bfc",
   "metadata": {
    "collapsed": true,
    "jupyter": {
     "outputs_hidden": true
    },
    "tags": []
   },
   "outputs": [
    {
     "data": {
      "text/plain": [
       "[('A.', '', ''),\n",
       " ('', '-print', ''),\n",
       " ('', '', ''),\n",
       " ('', '', '.40'),\n",
       " ('', '', ''),\n",
       " ('', '', ''),\n",
       " ('', '', '')]"
      ]
     },
     "execution_count": 20,
     "metadata": {},
     "output_type": "execute_result"
    }
   ],
   "source": [
    "ptoken = re.compile(r'''([A-Z]\\.)+ \n",
    "| \\w+(-\\w+)* \n",
    "| \\$?\\d+(\\.\\d+)?\n",
    "''', re.X)\n",
    "re.findall(ptoken, specialtext)"
   ]
  },
  {
   "cell_type": "code",
   "execution_count": 21,
   "id": "e98ab65b-146e-45f0-95b6-c4f39d552586",
   "metadata": {
    "collapsed": true,
    "jupyter": {
     "outputs_hidden": true
    },
    "tags": []
   },
   "outputs": [],
   "source": [
    "pattern = r''' (?x)\n",
    "([A-Z]\\.)+\n",
    "| \\w+(-\\w+)*\n",
    "| \\$?\\d+(\\.\\d+)?%?\n",
    "| \\.\\.\\. # ellipsis\n",
    "| [][.,;\"'?():-_']'''"
   ]
  },
  {
   "cell_type": "code",
   "execution_count": 22,
   "id": "b69c03e9-d8bc-4aac-b697-80a6ac8431a7",
   "metadata": {
    "collapsed": true,
    "jupyter": {
     "outputs_hidden": true
    },
    "tags": []
   },
   "outputs": [
    {
     "data": {
      "text/plain": [
       "[('', '', ''),\n",
       " ('', '', ''),\n",
       " ('', '', ''),\n",
       " ('', '', ''),\n",
       " ('', '', ''),\n",
       " ('', '', ''),\n",
       " ('', '', ''),\n",
       " ('', '', ''),\n",
       " ('', '', ''),\n",
       " ('', '', ''),\n",
       " ('', '', ''),\n",
       " ('', '', ''),\n",
       " ('', '', ''),\n",
       " ('', '', ''),\n",
       " ('', '', ''),\n",
       " ('', '', ''),\n",
       " ('', '', ''),\n",
       " ('', '', ''),\n",
       " ('', '', ''),\n",
       " ('', '', ''),\n",
       " ('', '', ''),\n",
       " ('', '', ''),\n",
       " ('', '', ''),\n",
       " ('', '', ''),\n",
       " ('', '', ''),\n",
       " ('', '', ''),\n",
       " ('', '', ''),\n",
       " ('', '', ''),\n",
       " ('', '', ''),\n",
       " ('', '', ''),\n",
       " ('', '', '')]"
      ]
     },
     "execution_count": 22,
     "metadata": {},
     "output_type": "execute_result"
    }
   ],
   "source": [
    "nltk.regexp_tokenize(shorttext, pattern)"
   ]
  },
  {
   "cell_type": "code",
   "execution_count": 23,
   "id": "96ad1b0b-8d0d-49a1-86ca-900ec98b5cd9",
   "metadata": {
    "collapsed": true,
    "jupyter": {
     "outputs_hidden": true
    },
    "tags": []
   },
   "outputs": [
    {
     "data": {
      "text/plain": [
       "[('A.', '', ''),\n",
       " ('', '-print', ''),\n",
       " ('', '', ''),\n",
       " ('', '', '.40'),\n",
       " ('', '', ''),\n",
       " ('', '', ''),\n",
       " ('', '', ''),\n",
       " ('', '', ''),\n",
       " ('', '', '')]"
      ]
     },
     "execution_count": 23,
     "metadata": {},
     "output_type": "execute_result"
    }
   ],
   "source": [
    "nltk.regexp_tokenize(specialtext, pattern)"
   ]
  },
  {
   "cell_type": "code",
   "execution_count": 24,
   "id": "49933914-ad47-4bea-9bf9-3c90838645e9",
   "metadata": {
    "collapsed": true,
    "jupyter": {
     "outputs_hidden": true
    },
    "tags": []
   },
   "outputs": [],
   "source": [
    "tweetPattern = r''' (?x)\n",
    "(https?://|www)\\S+\n",
    "| (:-\\)|;-\\))\n",
    "| &(amp|lt|gt|quot);\n",
    "| \\#\\w+\n",
    "| @\\w+\n",
    "| \\d+:\\d+\n",
    "| \\d+\\.\\d+\n",
    "| (\\d+,)+?\\d{3}(?=([^,]|$))\n",
    "| ([A-Z]\\.)+\n",
    "| (--+)\n",
    "| \\w+(-\\w+)*\n",
    "| ['\\\".?!,:;]+'''"
   ]
  },
  {
   "cell_type": "code",
   "execution_count": 25,
   "id": "9baf7e14-eb2e-46bc-ab09-f3bb086f56e3",
   "metadata": {
    "collapsed": true,
    "jupyter": {
     "outputs_hidden": true
    },
    "tags": []
   },
   "outputs": [],
   "source": [
    "tweet1 = \"@natalieohayre I agree #hc09 needs reform- but not by crooked politicians who r clueless about healthcare! #tcot #fishy NO GOV'T TAKEOVER!\"\n",
    "tweet2 = \"To Sen. Roland Burris: Affordable, quality health insurance can't wait http://bit.ly/j63je #hc09 #IL #60660\"\n",
    "tweet3 = \"RT @karoli: RT @Seriou: .@whitehouse I will stand w/ Obama on #healthcare, I trust him. #p2 #tlot\""
   ]
  },
  {
   "cell_type": "code",
   "execution_count": 26,
   "id": "c9764a50-6528-4d21-ab61-990d10d0d011",
   "metadata": {
    "collapsed": true,
    "jupyter": {
     "outputs_hidden": true
    },
    "tags": []
   },
   "outputs": [
    {
     "data": {
      "text/plain": [
       "[('', '', '', '', '', '', '', ''),\n",
       " ('', '', '', '', '', '', '', ''),\n",
       " ('', '', '', '', '', '', '', ''),\n",
       " ('', '', '', '', '', '', '', ''),\n",
       " ('', '', '', '', '', '', '', ''),\n",
       " ('', '', '', '', '', '', '', ''),\n",
       " ('', '', '', '', '', '', '', ''),\n",
       " ('', '', '', '', '', '', '', ''),\n",
       " ('', '', '', '', '', '', '', ''),\n",
       " ('', '', '', '', '', '', '', ''),\n",
       " ('', '', '', '', '', '', '', ''),\n",
       " ('', '', '', '', '', '', '', ''),\n",
       " ('', '', '', '', '', '', '', ''),\n",
       " ('', '', '', '', '', '', '', ''),\n",
       " ('', '', '', '', '', '', '', ''),\n",
       " ('', '', '', '', '', '', '', ''),\n",
       " ('', '', '', '', '', '', '', ''),\n",
       " ('', '', '', '', '', '', '', ''),\n",
       " ('', '', '', '', '', '', '', ''),\n",
       " ('', '', '', '', '', '', '', ''),\n",
       " ('', '', '', '', '', '', '', ''),\n",
       " ('', '', '', '', '', '', '', ''),\n",
       " ('', '', '', '', '', '', '', ''),\n",
       " ('', '', '', '', '', '', '', ''),\n",
       " ('', '', '', '', '', '', '', '')]"
      ]
     },
     "execution_count": 26,
     "metadata": {},
     "output_type": "execute_result"
    }
   ],
   "source": [
    "nltk.regexp_tokenize(tweet1,tweetPattern)"
   ]
  },
  {
   "cell_type": "code",
   "execution_count": 27,
   "id": "dd3e0257-66c7-43a7-acb7-15785f63965c",
   "metadata": {
    "collapsed": true,
    "jupyter": {
     "outputs_hidden": true
    },
    "tags": []
   },
   "outputs": [
    {
     "data": {
      "text/plain": [
       "[('', '', '', '', '', '', '', ''),\n",
       " ('', '', '', '', '', '', '', ''),\n",
       " ('', '', '', '', '', '', '', ''),\n",
       " ('', '', '', '', '', '', '', ''),\n",
       " ('', '', '', '', '', '', '', ''),\n",
       " ('', '', '', '', '', '', '', ''),\n",
       " ('', '', '', '', '', '', '', ''),\n",
       " ('', '', '', '', '', '', '', ''),\n",
       " ('', '', '', '', '', '', '', ''),\n",
       " ('', '', '', '', '', '', '', ''),\n",
       " ('', '', '', '', '', '', '', ''),\n",
       " ('', '', '', '', '', '', '', ''),\n",
       " ('', '', '', '', '', '', '', ''),\n",
       " ('', '', '', '', '', '', '', ''),\n",
       " ('', '', '', '', '', '', '', ''),\n",
       " ('http://', '', '', '', '', '', '', ''),\n",
       " ('', '', '', '', '', '', '', ''),\n",
       " ('', '', '', '', '', '', '', ''),\n",
       " ('', '', '', '', '', '', '', '')]"
      ]
     },
     "execution_count": 27,
     "metadata": {},
     "output_type": "execute_result"
    }
   ],
   "source": [
    "nltk.regexp_tokenize(tweet2,tweetPattern)"
   ]
  },
  {
   "cell_type": "code",
   "execution_count": 28,
   "id": "a23bff1f-2fcd-4f49-9a96-339085e5921d",
   "metadata": {
    "collapsed": true,
    "jupyter": {
     "outputs_hidden": true
    },
    "tags": []
   },
   "outputs": [
    {
     "data": {
      "text/plain": [
       "[('', '', '', '', '', '', '', ''),\n",
       " ('', '', '', '', '', '', '', ''),\n",
       " ('', '', '', '', '', '', '', ''),\n",
       " ('', '', '', '', '', '', '', ''),\n",
       " ('', '', '', '', '', '', '', ''),\n",
       " ('', '', '', '', '', '', '', ''),\n",
       " ('', '', '', '', '', '', '', ''),\n",
       " ('', '', '', '', '', '', '', ''),\n",
       " ('', '', '', '', '', '', '', ''),\n",
       " ('', '', '', '', '', '', '', ''),\n",
       " ('', '', '', '', '', '', '', ''),\n",
       " ('', '', '', '', '', '', '', ''),\n",
       " ('', '', '', '', '', '', '', ''),\n",
       " ('', '', '', '', '', '', '', ''),\n",
       " ('', '', '', '', '', '', '', ''),\n",
       " ('', '', '', '', '', '', '', ''),\n",
       " ('', '', '', '', '', '', '', ''),\n",
       " ('', '', '', '', '', '', '', ''),\n",
       " ('', '', '', '', '', '', '', ''),\n",
       " ('', '', '', '', '', '', '', ''),\n",
       " ('', '', '', '', '', '', '', ''),\n",
       " ('', '', '', '', '', '', '', ''),\n",
       " ('', '', '', '', '', '', '', ''),\n",
       " ('', '', '', '', '', '', '', ''),\n",
       " ('', '', '', '', '', '', '', '')]"
      ]
     },
     "execution_count": 28,
     "metadata": {},
     "output_type": "execute_result"
    }
   ],
   "source": [
    "nltk.regexp_tokenize(tweet1,tweetPattern)"
   ]
  },
  {
   "cell_type": "code",
   "execution_count": 29,
   "id": "3eb2a2f8-3866-4869-9748-872840275293",
   "metadata": {
    "collapsed": true,
    "jupyter": {
     "outputs_hidden": true
    },
    "tags": []
   },
   "outputs": [
    {
     "data": {
      "text/plain": [
       "['Sen.']"
      ]
     },
     "execution_count": 29,
     "metadata": {},
     "output_type": "execute_result"
    }
   ],
   "source": [
    "# Tokanization Q2 a.\n",
    "regpatter = r''' (?x)\n",
    "[A-Z][a-z]*[.]\n",
    "'''\n",
    "nltk.regexp_tokenize(tweet2,regpatter)"
   ]
  },
  {
   "cell_type": "code",
   "execution_count": 30,
   "id": "63bb7720-c409-4edb-84f2-57afcd37aa1a",
   "metadata": {
    "collapsed": true,
    "jupyter": {
     "outputs_hidden": true
    },
    "tags": []
   },
   "outputs": [
    {
     "data": {
      "text/plain": [
       "['Sen.', \"can't\"]"
      ]
     },
     "execution_count": 30,
     "metadata": {},
     "output_type": "execute_result"
    }
   ],
   "source": [
    "# Tokanization Q2 b.\n",
    "regpatter = r''' (?x)\n",
    "[A-Z][a-z]*[.]\n",
    "| [a-zA-Z]*['][a-zA-Z]\n",
    "'''\n",
    "nltk.regexp_tokenize(tweet2,regpatter)"
   ]
  },
  {
   "cell_type": "code",
   "execution_count": 31,
   "id": "d0609878-315c-4382-837c-cf6ad1d96999",
   "metadata": {
    "collapsed": true,
    "jupyter": {
     "outputs_hidden": true
    },
    "tags": []
   },
   "outputs": [
    {
     "data": {
      "text/plain": [
       "['Sen.', 't/', 'w/', \"can't\", 'y/']"
      ]
     },
     "execution_count": 31,
     "metadata": {},
     "output_type": "execute_result"
    }
   ],
   "source": [
    "# Tokanization Q2 c.\n",
    "tweet2 = \"To Sen. Roland Burris: Affordable, t/ quality health w/ insurance can't wait http://bit.ly/j63je #hc09 #IL #60660\"\n",
    "regpatter = r''' (?x)\n",
    "[A-Z][a-z]*[.]\n",
    "| [a-zA-Z]*['][a-zA-Z]\n",
    "| [a-zA-Z][/]\n",
    "'''\n",
    "nltk.regexp_tokenize(tweet2,regpatter)"
   ]
  },
  {
   "cell_type": "code",
   "execution_count": 47,
   "id": "41d24ccc-b27d-4d72-a7de-225fb8b03ef0",
   "metadata": {
    "collapsed": true,
    "jupyter": {
     "outputs_hidden": true
    },
    "tags": []
   },
   "outputs": [],
   "source": [
    "expr_a = '[a-zA-Z]+'\n",
    "expr_b = '[A-Z][a-z]*'\n",
    "expr_c = r\"p[aeiou]{0,2}t\"\n",
    "expr_d = r\"\\d+(\\.\\d+)?\"\n",
    "expr_e = '([^aeiou][aeiou][^aeiou])*'\n",
    "expr_f = '\\w+|[^\\w\\s]+'\n",
    "expr_g = '[aeiou]{2,5}'"
   ]
  },
  {
   "cell_type": "code",
   "execution_count": 48,
   "id": "4b8a8beb-e8bb-4a52-98df-f7126d1f8a69",
   "metadata": {
    "collapsed": true,
    "jupyter": {
     "outputs_hidden": true
    },
    "tags": []
   },
   "outputs": [],
   "source": [
    "text = emma_text[:3000]"
   ]
  },
  {
   "cell_type": "code",
   "execution_count": 49,
   "id": "42bb3ced-fd03-4093-aae2-6f06ad1eae4e",
   "metadata": {
    "collapsed": true,
    "jupyter": {
     "outputs_hidden": true
    },
    "tags": []
   },
   "outputs": [
    {
     "name": "stdout",
     "output_type": "stream",
     "text": [
      "[{Emma} {by} {Jane} {Austen} 1816]\n",
      "\n",
      "{VOLUME} {I}\n",
      "\n",
      "{CHAPTER} {I}\n",
      "\n",
      "\n",
      "{Emma} {Woodhouse}, {handsome}, {clever}, {and} {rich}, {with} {a} {comfortable} {home}\n",
      "{and} {happy} {disposition}, {seemed} {to} {unite} {some} {of} {the} {best} {blessings}\n",
      "{of} {existence}; {and} {had} {lived} {nearly} {twenty}-{one} {years} {in} {the} {world}\n",
      "{with} {very} {little} {to} {distress} {or} {vex} {her}.\n",
      "\n",
      "{She} {was} {the} {youngest} {of} {the} {two} {daughters} {of} {a} {most} {affectionate},\n",
      "{indulgent} {father}; {and} {had}, {in} {consequence} {of} {her} {sister}'{s} {marriage},\n",
      "{been} {mistress} {of} {his} {house} {from} {a} {very} {early} {period}.  {Her} {mother}\n",
      "{had} {died} {too} {long} {ago} {for} {her} {to} {have} {more} {than} {an} {indistinct}\n",
      "{remembrance} {of} {her} {caresses}; {and} {her} {place} {had} {been} {supplied}\n",
      "{by} {an} {excellent} {woman} {as} {governess}, {who} {had} {fallen} {little} {short}\n",
      "{of} {a} {mother} {in} {affection}.\n",
      "\n",
      "{Sixteen} {years} {had} {Miss} {Taylor} {been} {in} {Mr}. {Woodhouse}'{s} {family},\n",
      "{less} {as} {a} {governess} {than} {a} {friend}, {very} {fond} {of} {both} {daughters},\n",
      "{but} {particularly} {of} {Emma}.  {Between} _{them}_ {it} {was} {more} {the} {intimacy}\n",
      "{of} {sisters}.  {Even} {before} {Miss} {Taylor} {had} {ceased} {to} {hold} {the} {nominal}\n",
      "{office} {of} {governess}, {the} {mildness} {of} {her} {temper} {had} {hardly} {allowed}\n",
      "{her} {to} {impose} {any} {restraint}; {and} {the} {shadow} {of} {authority} {being}\n",
      "{now} {long} {passed} {away}, {they} {had} {been} {living} {together} {as} {friend} {and}\n",
      "{friend} {very} {mutually} {attached}, {and} {Emma} {doing} {just} {what} {she} {liked};\n",
      "{highly} {esteeming} {Miss} {Taylor}'{s} {judgment}, {but} {directed} {chiefly} {by}\n",
      "{her} {own}.\n",
      "\n",
      "{The} {real} {evils}, {indeed}, {of} {Emma}'{s} {situation} {were} {the} {power} {of} {having}\n",
      "{rather} {too} {much} {her} {own} {way}, {and} {a} {disposition} {to} {think} {a} {little}\n",
      "{too} {well} {of} {herself}; {these} {were} {the} {disadvantages} {which} {threatened}\n",
      "{alloy} {to} {her} {many} {enjoyments}.  {The} {danger}, {however}, {was} {at} {present}\n",
      "{so} {unperceived}, {that} {they} {did} {not} {by} {any} {means} {rank} {as} {misfortunes}\n",
      "{with} {her}.\n",
      "\n",
      "{Sorrow} {came}--{a} {gentle} {sorrow}--{but} {not} {at} {all} {in} {the} {shape} {of} {any}\n",
      "{disagreeable} {consciousness}.--{Miss} {Taylor} {married}.  {It} {was} {Miss}\n",
      "{Taylor}'{s} {loss} {which} {first} {brought} {grief}.  {It} {was} {on} {the} {wedding}-{day}\n",
      "{of} {this} {beloved} {friend} {that} {Emma} {first} {sat} {in} {mournful} {thought}\n",
      "{of} {any} {continuance}.  {The} {wedding} {over}, {and} {the} {bride}-{people} {gone},\n",
      "{her} {father} {and} {herself} {were} {left} {to} {dine} {together}, {with} {no} {prospect}\n",
      "{of} {a} {third} {to} {cheer} {a} {long} {evening}.  {Her} {father} {composed} {himself}\n",
      "{to} {sleep} {after} {dinner}, {as} {usual}, {and} {she} {had} {then} {only} {to} {sit}\n",
      "{and} {think} {of} {what} {she} {had} {lost}.\n",
      "\n",
      "{The} {event} {had} {every} {promise} {of} {happiness} {for} {her} {friend}.  {Mr}. {Weston}\n",
      "{was} {a} {man} {of} {unexceptionable} {character}, {easy} {fortune}, {suitable} {age},\n",
      "{and} {pleasant} {manners}; {and} {there} {was} {some} {satisfaction} {in} {considering}\n",
      "{with} {what} {self}-{denying}, {generous} {friendship} {she} {had} {always} {wished}\n",
      "{and} {promoted} {the} {match}; {but} {it} {was} {a} {black} {morning}'{s} {work} {for} {her}.\n",
      "{The} {want} {of} {Miss} {Taylor} {would} {be} {felt} {every} {hour} {of} {every} {day}.\n",
      "{She} {recalled} {her} {past} {kindness}--{the} {kindness}, {the} {affection} {of} {sixteen}\n",
      "{years}--{how} {she} {had} {taught} {and} {how} {she} {had} {played} {with} {her} {from} {five}\n",
      "{years} {old}--{how} {she} {had} {devoted} {all} {her} {powers} {to} {attach} {and} {amuse}\n",
      "{her} {in} {health}--{and} {how} {nursed} {her} {through} {the} {various} {illnesses}\n",
      "{of} {childhood}.  {A} {large} {debt} {of} {gratitude} {was} {owing} {here}; {but} {the}\n",
      "{intercourse} {of} {the} {last} {seven} {years}, {the} {equal} {footing} {and} {per}\n"
     ]
    }
   ],
   "source": [
    "nltk.re_show(expr_a,text)"
   ]
  },
  {
   "cell_type": "code",
   "execution_count": 50,
   "id": "023fafd8-79f9-467b-a5c9-0f2988919361",
   "metadata": {
    "collapsed": true,
    "jupyter": {
     "outputs_hidden": true
    },
    "tags": []
   },
   "outputs": [
    {
     "name": "stdout",
     "output_type": "stream",
     "text": [
      "[{Emma} by {Jane} {Austen} 1816]\n",
      "\n",
      "{V}{O}{L}{U}{M}{E} {I}\n",
      "\n",
      "{C}{H}{A}{P}{T}{E}{R} {I}\n",
      "\n",
      "\n",
      "{Emma} {Woodhouse}, handsome, clever, and rich, with a comfortable home\n",
      "and happy disposition, seemed to unite some of the best blessings\n",
      "of existence; and had lived nearly twenty-one years in the world\n",
      "with very little to distress or vex her.\n",
      "\n",
      "{She} was the youngest of the two daughters of a most affectionate,\n",
      "indulgent father; and had, in consequence of her sister's marriage,\n",
      "been mistress of his house from a very early period.  {Her} mother\n",
      "had died too long ago for her to have more than an indistinct\n",
      "remembrance of her caresses; and her place had been supplied\n",
      "by an excellent woman as governess, who had fallen little short\n",
      "of a mother in affection.\n",
      "\n",
      "{Sixteen} years had {Miss} {Taylor} been in {Mr}. {Woodhouse}'s family,\n",
      "less as a governess than a friend, very fond of both daughters,\n",
      "but particularly of {Emma}.  {Between} _them_ it was more the intimacy\n",
      "of sisters.  {Even} before {Miss} {Taylor} had ceased to hold the nominal\n",
      "office of governess, the mildness of her temper had hardly allowed\n",
      "her to impose any restraint; and the shadow of authority being\n",
      "now long passed away, they had been living together as friend and\n",
      "friend very mutually attached, and {Emma} doing just what she liked;\n",
      "highly esteeming {Miss} {Taylor}'s judgment, but directed chiefly by\n",
      "her own.\n",
      "\n",
      "{The} real evils, indeed, of {Emma}'s situation were the power of having\n",
      "rather too much her own way, and a disposition to think a little\n",
      "too well of herself; these were the disadvantages which threatened\n",
      "alloy to her many enjoyments.  {The} danger, however, was at present\n",
      "so unperceived, that they did not by any means rank as misfortunes\n",
      "with her.\n",
      "\n",
      "{Sorrow} came--a gentle sorrow--but not at all in the shape of any\n",
      "disagreeable consciousness.--{Miss} {Taylor} married.  {It} was {Miss}\n",
      "{Taylor}'s loss which first brought grief.  {It} was on the wedding-day\n",
      "of this beloved friend that {Emma} first sat in mournful thought\n",
      "of any continuance.  {The} wedding over, and the bride-people gone,\n",
      "her father and herself were left to dine together, with no prospect\n",
      "of a third to cheer a long evening.  {Her} father composed himself\n",
      "to sleep after dinner, as usual, and she had then only to sit\n",
      "and think of what she had lost.\n",
      "\n",
      "{The} event had every promise of happiness for her friend.  {Mr}. {Weston}\n",
      "was a man of unexceptionable character, easy fortune, suitable age,\n",
      "and pleasant manners; and there was some satisfaction in considering\n",
      "with what self-denying, generous friendship she had always wished\n",
      "and promoted the match; but it was a black morning's work for her.\n",
      "{The} want of {Miss} {Taylor} would be felt every hour of every day.\n",
      "{She} recalled her past kindness--the kindness, the affection of sixteen\n",
      "years--how she had taught and how she had played with her from five\n",
      "years old--how she had devoted all her powers to attach and amuse\n",
      "her in health--and how nursed her through the various illnesses\n",
      "of childhood.  {A} large debt of gratitude was owing here; but the\n",
      "intercourse of the last seven years, the equal footing and per\n"
     ]
    }
   ],
   "source": [
    "nltk.re_show(expr_b,text)"
   ]
  },
  {
   "cell_type": "code",
   "execution_count": 51,
   "id": "1e1276bc-b467-4ef1-9d98-1e37c1954d53",
   "metadata": {
    "collapsed": true,
    "jupyter": {
     "outputs_hidden": true
    },
    "tags": []
   },
   "outputs": [
    {
     "name": "stdout",
     "output_type": "stream",
     "text": [
      "[Emma by Jane Austen 1816]\n",
      "\n",
      "VOLUME I\n",
      "\n",
      "CHAPTER I\n",
      "\n",
      "\n",
      "Emma Woodhouse, handsome, clever, and rich, with a comfortable home\n",
      "and happy disposition, seemed to unite some of the best blessings\n",
      "of existence; and had lived nearly twenty-one years in the world\n",
      "with very little to distress or vex her.\n",
      "\n",
      "She was the youngest of the two daughters of a most affectionate,\n",
      "indulgent father; and had, in consequence of her sister's marriage,\n",
      "been mistress of his house from a very early period.  Her mother\n",
      "had died too long ago for her to have more than an indistinct\n",
      "remembrance of her caresses; and her place had been supplied\n",
      "by an excellent woman as governess, who had fallen little short\n",
      "of a mother in affection.\n",
      "\n",
      "Sixteen years had Miss Taylor been in Mr. Woodhouse's family,\n",
      "less as a governess than a friend, very fond of both daughters,\n",
      "but particularly of Emma.  Between _them_ it was more the intimacy\n",
      "of sisters.  Even before Miss Taylor had ceased to hold the nominal\n",
      "office of governess, the mildness of her temper had hardly allowed\n",
      "her to impose any restraint; and the shadow of authority being\n",
      "now long passed away, they had been living together as friend and\n",
      "friend very mutually attached, and Emma doing just what she liked;\n",
      "highly esteeming Miss Taylor's judgment, but directed chiefly by\n",
      "her own.\n",
      "\n",
      "The real evils, indeed, of Emma's situation were the power of having\n",
      "rather too much her own way, and a disposition to think a little\n",
      "too well of herself; these were the disadvantages which threatened\n",
      "alloy to her many enjoyments.  The danger, however, was at present\n",
      "so unperceived, that they did not by any means rank as misfortunes\n",
      "with her.\n",
      "\n",
      "Sorrow came--a gentle sorrow--but not at all in the shape of any\n",
      "disagreeable consciousness.--Miss Taylor married.  It was Miss\n",
      "Taylor's loss which first brought grief.  It was on the wedding-day\n",
      "of this beloved friend that Emma first sat in mournful thought\n",
      "of any continuance.  The wedding over, and the bride-people gone,\n",
      "her father and herself were left to dine together, with no prospect\n",
      "of a third to cheer a long evening.  Her father composed himself\n",
      "to sleep after dinner, as usual, and she had then only to sit\n",
      "and think of what she had lost.\n",
      "\n",
      "The event had every promise of happiness for her friend.  Mr. Weston\n",
      "was a man of unexce{pt}ionable character, easy fortune, suitable age,\n",
      "and pleasant manners; and there was some satisfaction in considering\n",
      "with what self-denying, generous friendship she had always wished\n",
      "and promoted the match; but it was a black morning's work for her.\n",
      "The want of Miss Taylor would be felt every hour of every day.\n",
      "She recalled her past kindness--the kindness, the affection of sixteen\n",
      "years--how she had taught and how she had played with her from five\n",
      "years old--how she had devoted all her powers to attach and amuse\n",
      "her in health--and how nursed her through the various illnesses\n",
      "of childhood.  A large debt of gratitude was owing here; but the\n",
      "intercourse of the last seven years, the equal footing and per\n"
     ]
    }
   ],
   "source": [
    "nltk.re_show(expr_c, text)"
   ]
  },
  {
   "cell_type": "code",
   "execution_count": 52,
   "id": "4e2b3428-3b08-49ac-946a-bda4f6ea8631",
   "metadata": {
    "collapsed": true,
    "jupyter": {
     "outputs_hidden": true
    },
    "tags": []
   },
   "outputs": [
    {
     "name": "stdout",
     "output_type": "stream",
     "text": [
      "[Emma by Jane Austen {1816}]\n",
      "\n",
      "VOLUME I\n",
      "\n",
      "CHAPTER I\n",
      "\n",
      "\n",
      "Emma Woodhouse, handsome, clever, and rich, with a comfortable home\n",
      "and happy disposition, seemed to unite some of the best blessings\n",
      "of existence; and had lived nearly twenty-one years in the world\n",
      "with very little to distress or vex her.\n",
      "\n",
      "She was the youngest of the two daughters of a most affectionate,\n",
      "indulgent father; and had, in consequence of her sister's marriage,\n",
      "been mistress of his house from a very early period.  Her mother\n",
      "had died too long ago for her to have more than an indistinct\n",
      "remembrance of her caresses; and her place had been supplied\n",
      "by an excellent woman as governess, who had fallen little short\n",
      "of a mother in affection.\n",
      "\n",
      "Sixteen years had Miss Taylor been in Mr. Woodhouse's family,\n",
      "less as a governess than a friend, very fond of both daughters,\n",
      "but particularly of Emma.  Between _them_ it was more the intimacy\n",
      "of sisters.  Even before Miss Taylor had ceased to hold the nominal\n",
      "office of governess, the mildness of her temper had hardly allowed\n",
      "her to impose any restraint; and the shadow of authority being\n",
      "now long passed away, they had been living together as friend and\n",
      "friend very mutually attached, and Emma doing just what she liked;\n",
      "highly esteeming Miss Taylor's judgment, but directed chiefly by\n",
      "her own.\n",
      "\n",
      "The real evils, indeed, of Emma's situation were the power of having\n",
      "rather too much her own way, and a disposition to think a little\n",
      "too well of herself; these were the disadvantages which threatened\n",
      "alloy to her many enjoyments.  The danger, however, was at present\n",
      "so unperceived, that they did not by any means rank as misfortunes\n",
      "with her.\n",
      "\n",
      "Sorrow came--a gentle sorrow--but not at all in the shape of any\n",
      "disagreeable consciousness.--Miss Taylor married.  It was Miss\n",
      "Taylor's loss which first brought grief.  It was on the wedding-day\n",
      "of this beloved friend that Emma first sat in mournful thought\n",
      "of any continuance.  The wedding over, and the bride-people gone,\n",
      "her father and herself were left to dine together, with no prospect\n",
      "of a third to cheer a long evening.  Her father composed himself\n",
      "to sleep after dinner, as usual, and she had then only to sit\n",
      "and think of what she had lost.\n",
      "\n",
      "The event had every promise of happiness for her friend.  Mr. Weston\n",
      "was a man of unexceptionable character, easy fortune, suitable age,\n",
      "and pleasant manners; and there was some satisfaction in considering\n",
      "with what self-denying, generous friendship she had always wished\n",
      "and promoted the match; but it was a black morning's work for her.\n",
      "The want of Miss Taylor would be felt every hour of every day.\n",
      "She recalled her past kindness--the kindness, the affection of sixteen\n",
      "years--how she had taught and how she had played with her from five\n",
      "years old--how she had devoted all her powers to attach and amuse\n",
      "her in health--and how nursed her through the various illnesses\n",
      "of childhood.  A large debt of gratitude was owing here; but the\n",
      "intercourse of the last seven years, the equal footing and per\n"
     ]
    }
   ],
   "source": [
    "nltk.re_show(expr_d, text)"
   ]
  },
  {
   "cell_type": "code",
   "execution_count": 54,
   "id": "0a6967fc-7e0d-4439-8dca-93a23915f292",
   "metadata": {
    "collapsed": true,
    "jupyter": {
     "outputs_hidden": true
    },
    "tags": []
   },
   "outputs": [
    {
     "name": "stdout",
     "output_type": "stream",
     "text": [
      "{}[{}E{}m{ma }{}b{}y{} {Jan}{}e{} {Austen}{} {}1{}8{}1{}6{}]{}\n",
      "{}\n",
      "{}V{}O{}L{}U{}M{}E{} {}I{}\n",
      "{}\n",
      "{}C{}H{}A{}P{}T{}E{}R{} {}I{}\n",
      "{}\n",
      "{}\n",
      "{}E{}m{ma }{}W{}o{}o{}d{}h{}o{}u{se,}{} {han}{}d{som}{}e{},{} {}c{lev}{}e{}r{},{ an}{}d{} {ric}{}h{},{} {wit}{}h{ a comfortable hom}{}e{\n",
      "an}{}d{} {hap}{}p{}y{} {dispos}{}i{}t{}i{}o{}n{},{} {}s{}e{}e{med}{} {to }{}u{nit}{}e{} {som}{}e{ of}{} {}t{he bes}{}t{} {}b{lessin}{}g{}s{\n",
      "of ex}{}i{}s{tence; an}{}d{} {had}{} {liv}{}e{}d{} {}n{}e{}a{}r{}l{}y{} {}t{wen}{}t{}y{-on}{}e{} {}y{}e{}a{}r{}s{ in}{} {}t{he wor}{}l{}d{}\n",
      "{wit}{}h{} {ver}{}y{} {lit}{}t{le to dis}{}t{res}{}s{ or}{} {vex}{} {her}{}.{}\n",
      "{}\n",
      "{}S{he was}{} {}t{he }{}y{}o{}u{}n{ges}{}t{ of}{} {}t{he }{}t{wo }{}d{}a{}u{}g{}h{ter}{}s{ of a mos}{}t{ affec}{}t{}i{}o{nat}{}e{},{\n",
      "indulgen}{}t{} {father}{};{ an}{}d{} {had}{},{ in}{} {conseq}{}u{}e{}n{ce }{}o{}f{} {her}{} {sister}{}'{}s{} {mar}{}r{}i{}a{ge,}{}\n",
      "{}b{}e{}e{}n{} {mis}{}t{res}{}s{ of}{} {his}{} {}h{}o{}u{se }{}f{rom a ver}{}y{} {}e{}a{}r{}l{}y{} {per}{}i{}o{}d{}.{} {} {Her}{} {mother}{}\n",
      "{had}{} {}d{}i{}e{}d{} {}t{}o{}o{} {lon}{}g{ ag}{}o{} {for}{} {her}{} {to hav}{}e{} {mor}{}e{} {}t{han an indistin}{}c{}t{}\n",
      "{rem}{}e{}m{}b{rance }{}o{}f{} {her}{} {car}{}e{}s{ses}{};{ an}{}d{} {her}{} {}p{lac}{}e{} {had}{} {}b{}e{}e{}n{} {sup}{}p{}l{}i{}e{}d{}\n",
      "{}b{}y{ an excellen}{}t{} {wom}{}a{}n{ as}{} {gov}{}e{}r{nes}{}s{},{} {}w{ho had}{} {fallen}{} {lit}{}t{le }{}s{hor}{}t{\n",
      "of a mother in affec}{}t{}i{}o{}n{}.{}\n",
      "{}\n",
      "{Six}{}t{}e{}e{}n{} {}y{}e{}a{}r{}s{} {had}{} {Mis}{}s{} {Taylor}{} {}b{}e{}e{}n{ in}{} {}M{}r{}.{} {}W{}o{}o{}d{}h{}o{}u{se'}{}s{} {fam}{}i{}l{}y{},{}\n",
      "{les}{}s{ as a gov}{}e{}r{nes}{}s{} {}t{han a }{}f{}r{}i{}e{}n{}d{},{} {ver}{}y{} {fon}{}d{ of}{} {bot}{}h{} {}d{}a{}u{}g{}h{ter}{}s{},{}\n",
      "{but}{} {partic}{}u{lar}{}l{}y{ of}{} {}E{}m{ma.}{} {} {Bet}{}w{}e{}e{}n{} {}_{}t{hem}{}_{ it}{} {was}{} {mor}{}e{} {}t{he }{}i{}n{tim}{}a{}c{}y{\n",
      "of}{} {sister}{}s{}.{} {} {}E{ven}{} {bef}{}o{re Mis}{}s{} {Taylor}{} {had}{} {}c{}e{}a{sed}{} {to hol}{}d{} {}t{he nom}{}i{nal\n",
      "offic}{}e{ of}{} {gov}{}e{}r{nes}{}s{},{} {}t{he mil}{}d{nes}{}s{ of}{} {her}{} {temper}{} {had}{} {har}{}d{}l{}y{ allow}{}e{}d{}\n",
      "{her}{} {to }{}i{}m{pos}{}e{ an}{}y{} {res}{}t{}r{}a{}i{}n{}t{};{ an}{}d{} {}t{he }{}s{had}{}o{}w{ of}{} {}a{}u{}t{hor}{}i{}t{}y{} {}b{}e{}i{}n{}g{}\n",
      "{now}{} {lon}{}g{} {passed aw}{}a{}y{},{} {}t{hey}{} {had}{} {}b{}e{}e{}n{} {liv}{}i{}n{}g{} {tog}{}e{}t{her as}{} {}f{}r{}i{}e{}n{}d{ an}{}d{}\n",
      "{}f{}r{}i{}e{}n{}d{} {ver}{}y{} {mut}{}u{}a{}l{}l{}y{ attached}{},{ an}{}d{} {}E{}m{ma }{}d{}o{}i{}n{}g{} {jus}{}t{} {}w{hat}{} {}s{he lik}{}e{}d{};{}\n",
      "{hig}{}h{}l{}y{ es}{}t{}e{}e{min}{}g{} {Mis}{}s{} {Taylor}{}'{}s{} {jud}{}g{men}{}t{},{} {but}{} {dir}{}e{}c{ted}{} {}c{}h{}i{}e{}f{}l{}y{} {}b{}y{}\n",
      "{her ow}{}n{}.{}\n",
      "{}\n",
      "{}T{he }{}r{}e{}a{}l{ ev}{}i{}l{}s{},{ in}{}d{}e{}e{}d{},{ of}{} {}E{}m{ma'}{}s{} {sit}{}u{}a{}t{}i{}o{}n{} {wer}{}e{} {}t{he pow}{}e{}r{ of}{} {hav}{}i{}n{}g{}\n",
      "{rather}{} {}t{}o{}o{} {muc}{}h{} {her ow}{}n{} {way}{},{ an}{}d{ a dispos}{}i{}t{}i{}o{}n{} {to }{}t{hin}{}k{ a lit}{}t{le\n",
      "}{}t{}o{}o{} {wel}{}l{ of}{} {hersel}{}f{};{} {}t{hes}{}e{} {wer}{}e{} {}t{he dis}{}a{}d{vantag}{}e{}s{} {}w{hic}{}h{} {}t{}h{}r{}e{}a{ten}{}e{}d{\n",
      "alloy}{} {to her}{} {man}{}y{ enjoymen}{}t{}s{}.{} {} {}T{he danger}{},{} {how}{}e{ver}{},{} {was at}{} {}p{res}{}e{}n{}t{}\n",
      "{so }{}u{}n{per}{}c{}e{}i{ved}{},{} {}t{hat}{} {}t{hey}{} {did}{} {not}{} {}b{}y{ an}{}y{} {}m{}e{}a{}n{}s{} {ran}{}k{ as}{} {misfortun}{}e{}s{}\n",
      "{wit}{}h{} {her}{}.{}\n",
      "{}\n",
      "{Sorrow}{} {cam}{}e{}-{-a gen}{}t{le sorrow}{}-{}-{but}{} {not at al}{}l{ in}{} {}t{he }{}s{hap}{}e{ of an}{}y{}\n",
      "{dis}{}a{}g{}r{}e{}e{}a{}b{le con}{}s{}c{}i{}o{}u{}s{nes}{}s{}.{}-{}-{Mis}{}s{} {Taylor}{} {mar}{}r{}i{}e{}d{}.{} {} {}I{}t{} {was}{} {Mis}{}s{}\n",
      "{Taylor}{}'{}s{} {los}{}s{} {}w{hic}{}h{} {fir}{}s{}t{} {}b{}r{}o{}u{}g{}h{}t{} {}g{}r{}i{}e{}f{}.{} {} {}I{}t{} {was on}{} {}t{he weddin}{}g{}-{day\n",
      "of}{} {}t{his}{} {bel}{}o{ved}{} {}f{}r{}i{}e{}n{}d{} {}t{hat}{} {}E{}m{ma fir}{}s{}t{} {sat in}{} {}m{}o{}u{}r{}n{ful}{} {}t{}h{}o{}u{}g{}h{}t{\n",
      "of an}{}y{} {contin}{}u{}a{}n{ce.}{} {} {}T{he weddin}{}g{ ov}{}e{}r{},{ an}{}d{} {}t{he }{}b{rid}{}e{}-{}p{}e{}o{}p{le gon}{}e{},{}\n",
      "{her}{} {father an}{}d{} {hersel}{}f{} {wer}{}e{} {lef}{}t{} {to din}{}e{} {tog}{}e{}t{her}{},{} {wit}{}h{} {no }{}p{rospec}{}t{\n",
      "of a }{}t{hir}{}d{} {to }{}c{}h{}e{}e{}r{ a lon}{}g{ ev}{}e{nin}{}g{}.{} {} {Her}{} {father}{} {compos}{}e{}d{} {himsel}{}f{}\n",
      "{to }{}s{}l{}e{}e{}p{ after}{} {dinner}{},{ as us}{}u{}a{}l{},{ an}{}d{} {}s{he had}{} {}t{hen on}{}l{}y{} {to sit\n",
      "an}{}d{} {}t{hin}{}k{ of}{} {}w{hat}{} {}s{he had}{} {los}{}t{}.{}\n",
      "{}\n",
      "{}T{he }{}e{ven}{}t{} {had ev}{}e{}r{}y{} {}p{rom}{}i{se }{}o{}f{} {happin}{}e{}s{}s{} {for}{} {her}{} {}f{}r{}i{}e{}n{}d{}.{} {} {}M{}r{}.{} {Weston}{}\n",
      "{was a man of un}{}e{}x{cep}{}t{}i{}o{nable }{}c{har}{}a{}c{ter}{},{} {}e{}a{}s{}y{} {fortun}{}e{},{} {}s{}u{}i{table }{}a{ge,\n",
      "an}{}d{} {}p{}l{}e{}a{san}{}t{} {manner}{}s{};{ an}{}d{} {}t{her}{}e{} {was}{} {som}{}e{} {sat}{}i{}s{fac}{}t{}i{}o{}n{ in}{} {consid}{}e{rin}{}g{}\n",
      "{wit}{}h{} {}w{hat}{} {sel}{}f{}-{denyin}{}g{},{} {gen}{}e{}r{}o{}u{}s{} {}f{}r{}i{}e{}n{}d{}s{hip}{} {}s{he had alway}{}s{} {wished\n",
      "an}{}d{} {}p{rom}{}o{ted}{} {}t{he mat}{}c{}h{};{} {but it}{} {was a }{}b{lac}{}k{} {mornin}{}g{}'{}s{} {wor}{}k{} {for}{} {her}{}.{}\n",
      "{}T{he wan}{}t{ of}{} {Mis}{}s{} {Taylor}{} {}w{}o{}u{}l{}d{} {be fel}{}t{ ev}{}e{}r{}y{} {}h{}o{}u{}r{ of ev}{}e{}r{}y{} {day}{}.{}\n",
      "{}S{he rec}{}a{}l{led}{} {her}{} {pas}{}t{} {kin}{}d{nes}{}s{}-{}-{}t{he kin}{}d{nes}{}s{},{} {}t{he }{}a{}f{fec}{}t{}i{}o{}n{ of}{} {six}{}t{}e{}e{}n{}\n",
      "{}y{}e{}a{}r{}s{}-{}-{how}{} {}s{he had}{} {}t{}a{}u{}g{}h{}t{ an}{}d{} {how}{} {}s{he had}{} {}p{lay}{}e{}d{} {wit}{}h{} {her}{} {}f{rom}{} {fiv}{}e{}\n",
      "{}y{}e{}a{}r{}s{ ol}{}d{}-{}-{how}{} {}s{he had}{} {dev}{}o{ted al}{}l{} {her}{} {pow}{}e{}r{}s{} {to }{}a{}t{tac}{}h{ an}{}d{ am}{}u{se\n",
      "her in}{} {}h{}e{}a{}l{}t{}h{}-{-an}{}d{} {how}{} {nursed}{} {her}{} {}t{}h{}r{}o{}u{}g{}h{} {}t{he var}{}i{}o{}u{}s{ il}{}l{nesses\n",
      "of}{} {}c{hil}{}d{}h{}o{}o{}d{}.{} {} {}A{} {large deb}{}t{ of}{} {}g{rat}{}i{tud}{}e{} {was ow}{}i{}n{}g{} {her}{}e{};{} {but}{} {}t{he\n",
      "}{}i{}n{ter}{}c{}o{}u{}r{se }{}o{}f{} {}t{he las}{}t{} {sev}{}e{}n{} {}y{}e{}a{}r{}s{},{} {}t{he }{}e{}q{}u{}a{}l{} {}f{}o{}o{tin}{}g{ an}{}d{} {per}{}\n"
     ]
    }
   ],
   "source": [
    "nltk.re_show(expr_e, text)"
   ]
  },
  {
   "cell_type": "code",
   "execution_count": 55,
   "id": "890e3af1-ff1c-4409-a896-7911fa7767a9",
   "metadata": {
    "collapsed": true,
    "jupyter": {
     "outputs_hidden": true
    },
    "tags": []
   },
   "outputs": [
    {
     "name": "stdout",
     "output_type": "stream",
     "text": [
      "{[}{Emma} {by} {Jane} {Austen} {1816}{]}\n",
      "\n",
      "{VOLUME} {I}\n",
      "\n",
      "{CHAPTER} {I}\n",
      "\n",
      "\n",
      "{Emma} {Woodhouse}{,} {handsome}{,} {clever}{,} {and} {rich}{,} {with} {a} {comfortable} {home}\n",
      "{and} {happy} {disposition}{,} {seemed} {to} {unite} {some} {of} {the} {best} {blessings}\n",
      "{of} {existence}{;} {and} {had} {lived} {nearly} {twenty}{-}{one} {years} {in} {the} {world}\n",
      "{with} {very} {little} {to} {distress} {or} {vex} {her}{.}\n",
      "\n",
      "{She} {was} {the} {youngest} {of} {the} {two} {daughters} {of} {a} {most} {affectionate}{,}\n",
      "{indulgent} {father}{;} {and} {had}{,} {in} {consequence} {of} {her} {sister}{'}{s} {marriage}{,}\n",
      "{been} {mistress} {of} {his} {house} {from} {a} {very} {early} {period}{.}  {Her} {mother}\n",
      "{had} {died} {too} {long} {ago} {for} {her} {to} {have} {more} {than} {an} {indistinct}\n",
      "{remembrance} {of} {her} {caresses}{;} {and} {her} {place} {had} {been} {supplied}\n",
      "{by} {an} {excellent} {woman} {as} {governess}{,} {who} {had} {fallen} {little} {short}\n",
      "{of} {a} {mother} {in} {affection}{.}\n",
      "\n",
      "{Sixteen} {years} {had} {Miss} {Taylor} {been} {in} {Mr}{.} {Woodhouse}{'}{s} {family}{,}\n",
      "{less} {as} {a} {governess} {than} {a} {friend}{,} {very} {fond} {of} {both} {daughters}{,}\n",
      "{but} {particularly} {of} {Emma}{.}  {Between} {_them_} {it} {was} {more} {the} {intimacy}\n",
      "{of} {sisters}{.}  {Even} {before} {Miss} {Taylor} {had} {ceased} {to} {hold} {the} {nominal}\n",
      "{office} {of} {governess}{,} {the} {mildness} {of} {her} {temper} {had} {hardly} {allowed}\n",
      "{her} {to} {impose} {any} {restraint}{;} {and} {the} {shadow} {of} {authority} {being}\n",
      "{now} {long} {passed} {away}{,} {they} {had} {been} {living} {together} {as} {friend} {and}\n",
      "{friend} {very} {mutually} {attached}{,} {and} {Emma} {doing} {just} {what} {she} {liked}{;}\n",
      "{highly} {esteeming} {Miss} {Taylor}{'}{s} {judgment}{,} {but} {directed} {chiefly} {by}\n",
      "{her} {own}{.}\n",
      "\n",
      "{The} {real} {evils}{,} {indeed}{,} {of} {Emma}{'}{s} {situation} {were} {the} {power} {of} {having}\n",
      "{rather} {too} {much} {her} {own} {way}{,} {and} {a} {disposition} {to} {think} {a} {little}\n",
      "{too} {well} {of} {herself}{;} {these} {were} {the} {disadvantages} {which} {threatened}\n",
      "{alloy} {to} {her} {many} {enjoyments}{.}  {The} {danger}{,} {however}{,} {was} {at} {present}\n",
      "{so} {unperceived}{,} {that} {they} {did} {not} {by} {any} {means} {rank} {as} {misfortunes}\n",
      "{with} {her}{.}\n",
      "\n",
      "{Sorrow} {came}{--}{a} {gentle} {sorrow}{--}{but} {not} {at} {all} {in} {the} {shape} {of} {any}\n",
      "{disagreeable} {consciousness}{.--}{Miss} {Taylor} {married}{.}  {It} {was} {Miss}\n",
      "{Taylor}{'}{s} {loss} {which} {first} {brought} {grief}{.}  {It} {was} {on} {the} {wedding}{-}{day}\n",
      "{of} {this} {beloved} {friend} {that} {Emma} {first} {sat} {in} {mournful} {thought}\n",
      "{of} {any} {continuance}{.}  {The} {wedding} {over}{,} {and} {the} {bride}{-}{people} {gone}{,}\n",
      "{her} {father} {and} {herself} {were} {left} {to} {dine} {together}{,} {with} {no} {prospect}\n",
      "{of} {a} {third} {to} {cheer} {a} {long} {evening}{.}  {Her} {father} {composed} {himself}\n",
      "{to} {sleep} {after} {dinner}{,} {as} {usual}{,} {and} {she} {had} {then} {only} {to} {sit}\n",
      "{and} {think} {of} {what} {she} {had} {lost}{.}\n",
      "\n",
      "{The} {event} {had} {every} {promise} {of} {happiness} {for} {her} {friend}{.}  {Mr}{.} {Weston}\n",
      "{was} {a} {man} {of} {unexceptionable} {character}{,} {easy} {fortune}{,} {suitable} {age}{,}\n",
      "{and} {pleasant} {manners}{;} {and} {there} {was} {some} {satisfaction} {in} {considering}\n",
      "{with} {what} {self}{-}{denying}{,} {generous} {friendship} {she} {had} {always} {wished}\n",
      "{and} {promoted} {the} {match}{;} {but} {it} {was} {a} {black} {morning}{'}{s} {work} {for} {her}{.}\n",
      "{The} {want} {of} {Miss} {Taylor} {would} {be} {felt} {every} {hour} {of} {every} {day}{.}\n",
      "{She} {recalled} {her} {past} {kindness}{--}{the} {kindness}{,} {the} {affection} {of} {sixteen}\n",
      "{years}{--}{how} {she} {had} {taught} {and} {how} {she} {had} {played} {with} {her} {from} {five}\n",
      "{years} {old}{--}{how} {she} {had} {devoted} {all} {her} {powers} {to} {attach} {and} {amuse}\n",
      "{her} {in} {health}{--}{and} {how} {nursed} {her} {through} {the} {various} {illnesses}\n",
      "{of} {childhood}{.}  {A} {large} {debt} {of} {gratitude} {was} {owing} {here}{;} {but} {the}\n",
      "{intercourse} {of} {the} {last} {seven} {years}{,} {the} {equal} {footing} {and} {per}\n"
     ]
    }
   ],
   "source": [
    "nltk.re_show(expr_f, text)"
   ]
  },
  {
   "cell_type": "code",
   "execution_count": 56,
   "id": "81f52ec3-e9da-4e2c-813e-8c0ac829b3f8",
   "metadata": {
    "collapsed": true,
    "jupyter": {
     "outputs_hidden": true
    },
    "tags": []
   },
   "outputs": [
    {
     "name": "stdout",
     "output_type": "stream",
     "text": [
      "[Emma by Jane Austen 1816]\n",
      "\n",
      "VOLUME I\n",
      "\n",
      "CHAPTER I\n",
      "\n",
      "\n",
      "Emma W{oo}dh{ou}se, handsome, clever, and rich, with a comfortable home\n",
      "and happy disposit{io}n, s{ee}med to unite some of the best blessings\n",
      "of existence; and had lived n{ea}rly twenty-one y{ea}rs in the world\n",
      "with very little to distress or vex her.\n",
      "\n",
      "She was the y{ou}ngest of the two d{au}ghters of a most affect{io}nate,\n",
      "indulgent father; and had, in conseq{ue}nce of her sister's marr{ia}ge,\n",
      "b{ee}n mistress of his h{ou}se from a very {ea}rly per{io}d.  Her mother\n",
      "had d{ie}d t{oo} long ago for her to have more than an indistinct\n",
      "remembrance of her caresses; and her place had b{ee}n suppl{ie}d\n",
      "by an excellent woman as governess, who had fallen little short\n",
      "of a mother in affect{io}n.\n",
      "\n",
      "Sixt{ee}n y{ea}rs had Miss Taylor b{ee}n in Mr. W{oo}dh{ou}se's family,\n",
      "less as a governess than a fr{ie}nd, very fond of both d{au}ghters,\n",
      "but particularly of Emma.  Betw{ee}n _them_ it was more the intimacy\n",
      "of sisters.  Even before Miss Taylor had c{ea}sed to hold the nominal\n",
      "office of governess, the mildness of her temper had hardly allowed\n",
      "her to impose any restr{ai}nt; and the shadow of {au}thority b{ei}ng\n",
      "now long passed away, they had b{ee}n living together as fr{ie}nd and\n",
      "fr{ie}nd very mut{ua}lly attached, and Emma d{oi}ng just what she liked;\n",
      "highly est{ee}ming Miss Taylor's judgment, but directed ch{ie}fly by\n",
      "her own.\n",
      "\n",
      "The r{ea}l evils, ind{ee}d, of Emma's sit{ua}t{io}n were the power of having\n",
      "rather t{oo} much her own way, and a disposit{io}n to think a little\n",
      "t{oo} well of herself; these were the disadvantages which thr{ea}tened\n",
      "alloy to her many enjoyments.  The danger, however, was at present\n",
      "so unperc{ei}ved, that they did not by any m{ea}ns rank as misfortunes\n",
      "with her.\n",
      "\n",
      "Sorrow came--a gentle sorrow--but not at all in the shape of any\n",
      "disagr{eea}ble consc{iou}sness.--Miss Taylor marr{ie}d.  It was Miss\n",
      "Taylor's loss which first br{ou}ght gr{ie}f.  It was on the wedding-day\n",
      "of this beloved fr{ie}nd that Emma first sat in m{ou}rnful th{ou}ght\n",
      "of any contin{ua}nce.  The wedding over, and the bride-p{eo}ple gone,\n",
      "her father and herself were left to dine together, with no prospect\n",
      "of a third to ch{ee}r a long evening.  Her father composed himself\n",
      "to sl{ee}p after dinner, as us{ua}l, and she had then only to sit\n",
      "and think of what she had lost.\n",
      "\n",
      "The event had every promise of happiness for her fr{ie}nd.  Mr. Weston\n",
      "was a man of unexcept{io}nable character, {ea}sy fortune, s{ui}table age,\n",
      "and pl{ea}sant manners; and there was some satisfact{io}n in considering\n",
      "with what self-denying, gener{ou}s fr{ie}ndship she had always wished\n",
      "and promoted the match; but it was a black morning's work for her.\n",
      "The want of Miss Taylor w{ou}ld be felt every h{ou}r of every day.\n",
      "She recalled her past kindness--the kindness, the affect{io}n of sixt{ee}n\n",
      "y{ea}rs--how she had t{au}ght and how she had played with her from five\n",
      "y{ea}rs old--how she had devoted all her powers to attach and amuse\n",
      "her in h{ea}lth--and how nursed her thr{ou}gh the var{iou}s illnesses\n",
      "of childh{oo}d.  A large debt of gratitude was owing here; but the\n",
      "interc{ou}rse of the last seven y{ea}rs, the eq{ua}l f{oo}ting and per\n"
     ]
    }
   ],
   "source": [
    "nltk.re_show(expr_g, text)"
   ]
  },
  {
   "cell_type": "code",
   "execution_count": 57,
   "id": "011f6a8e-2ecd-4059-8e71-00c6239864d8",
   "metadata": {
    "collapsed": true,
    "jupyter": {
     "outputs_hidden": true
    },
    "tags": []
   },
   "outputs": [],
   "source": [
    "# 2. a.\n",
    "regex = \"\\b(a|an|the)\\b\"\n",
    "# \\b matches a word boundary to ensure that the entire determiner is matched as a separate word.\n",
    "# (a|an|the) specifies the options for determiners, separated by the pipe symbol | "
   ]
  },
  {
   "cell_type": "code",
   "execution_count": 58,
   "id": "4e59c4e2-77d2-4872-a3ea-0f1cd47630c4",
   "metadata": {
    "collapsed": true,
    "jupyter": {
     "outputs_hidden": true
    },
    "tags": []
   },
   "outputs": [],
   "source": [
    "# 2. b.\n",
    "regex = \"^[0-9]+(\\s*[-+*/]\\s*[0-9]+)*$\"\n",
    "# ^ asserts the start of the string.\n",
    "# [0-9]+ matches one or more digits.\n",
    "# (\\s*[-+*/]\\s*[0-9]+)* allows for zero or more occurrences of an operator followed by a number.\n",
    "# \\s* matches zero or more whitespace characters.\n",
    "# [-+*/] matches one of the specified operators: minus (subtraction), plus, asterisk (multiplication), or forward slash (division).\n",
    "# \\s* matches zero or more whitespace characters.\n",
    "# [0-9]+ matches one or more digits.\n",
    "# $ asserts the end of the string."
   ]
  },
  {
   "cell_type": "code",
   "execution_count": 60,
   "id": "ca754a30-fb36-4780-8ba0-cb8530de2c46",
   "metadata": {
    "collapsed": true,
    "jupyter": {
     "outputs_hidden": true
    },
    "tags": []
   },
   "outputs": [],
   "source": [
    "# 3.\n",
    "text = \"\"\"First impressions of Threads: can Meta do this? Is this not somehow plagiarism?\n",
    "\n",
    "The app looks almost identical to Twitter. The news feed, the reposting. It's all incredibly familiar.\n",
    "\n",
    "Mark Zuckerberg claims millions of people have signed up in the first few hours. You should always be sceptical when a tech boss says how many users have signed up to a platform. But it does feel like a lot of people are already on it.\n",
    "\n",
    "That's partly because it's connected to Instagram. Meta isn't creating an app from scratch. It's benefiting from its two billion Instagram followers that are giving it a massive shot in the arm.\n",
    "\n",
    "Platforms like Bluesky and Mastodon did not have this luxury. They started with zero users.\n",
    "\n",
    "But whether this is \"fair\" or not, Mr Zuckerberg doesn't care. He's copied other apps before to great success (Reels is a clone of TikTok) and he's happy to do so again.\n",
    "\n",
    "Knowing the power of celebrity, Mr Zuckerberg has also utilised famous names on Instagram and managed to get some of them on Threads, like Shakira and Gordon Ramsay.\n",
    "\n",
    "Mr Zuckerberg will be thrilled with the buzz around the app. When it comes to social media, it's all about the network effect. The more people use the app, the better the app is.\n",
    "\n",
    "When it comes to social media, the network effect can create a sort of tipping point. When so many of your friends or people you want to hear from are on a platform, you kind of feel you have to join.\n",
    "\n",
    "It's very, very hard to create a network effect on a social media platform. But when it works, it really works. The reverse is also true. When communities leave a social media platform, they can do so quickly - and it can be devastating. Think Myspace or Bebo.\n",
    "\n",
    "Let's go to some of the problems with Threads, though.\n",
    "\n",
    "Unlike Twitter, which has two feeds - a recommendations feed and an option just to see tweets from those you follow - Threads has just one feed that blends your followers and content it thinks you will want. That could get annoying.\n",
    "\n",
    "It doesn't seem to have desktop functionality yet - it doesn't work well on your computer. That's a shame.\n",
    "\n",
    "There doesn't seem to be any trending information, so it's hard to see what's going viral.\n",
    "\n",
    "And when it comes to verification, users can still buy their blue ticks for a monthly fee, just as you can with Twitter.\n",
    "\n",
    "Mark Zuckerberg described the app as an \"initial version\" - and that's what it feels like. It does the basics well. But this is a no-thrills app right now.\n",
    "\n",
    "That said, Meta's boss will be over the moon with how this has gone so far. Considering the bad press he's got over the years, he is reinventing himself as the adult in the room - the sensible tech billionaire who wants a friendly social media platform.\n",
    "\n",
    "You can tell this has riled Elon Musk. \"Thank goodness they're so sanely run,\" he tweeted sarcastically on Monday.\n",
    "\n",
    "But if Mr Zuckerberg was nervous that disaffected Twitter uses would spurn Meta's offer, so far, it looks like those fears were unfounded.\n",
    "\n",
    "And if that is the case, with an app that works perfectly well, if not spectacularly, that could be a real problem for Mr Musk.\"\"\""
   ]
  },
  {
   "cell_type": "code",
   "execution_count": 64,
   "id": "b936704b-6d1f-4edb-8490-3cc967ed5188",
   "metadata": {
    "collapsed": true,
    "jupyter": {
     "outputs_hidden": true
    },
    "tags": []
   },
   "outputs": [
    {
     "data": {
      "text/plain": [
       "['F',\n",
       " 'T',\n",
       " ':',\n",
       " 'M',\n",
       " '?',\n",
       " 'I',\n",
       " '?',\n",
       " 'T',\n",
       " 'T',\n",
       " '.',\n",
       " 'T',\n",
       " ',',\n",
       " '.',\n",
       " 'I',\n",
       " \"'\",\n",
       " '.',\n",
       " 'M',\n",
       " 'Z',\n",
       " '.',\n",
       " 'Y',\n",
       " '.',\n",
       " 'B',\n",
       " '.',\n",
       " 'T',\n",
       " \"'\",\n",
       " \"'\",\n",
       " 'I',\n",
       " '.',\n",
       " 'M',\n",
       " \"'\",\n",
       " '.',\n",
       " 'I',\n",
       " \"'\",\n",
       " 'I',\n",
       " '.',\n",
       " 'P',\n",
       " 'B',\n",
       " 'M',\n",
       " '.',\n",
       " 'T',\n",
       " '.',\n",
       " 'B',\n",
       " '\"',\n",
       " '\"',\n",
       " ',',\n",
       " 'M',\n",
       " 'Z',\n",
       " \"'\",\n",
       " '.',\n",
       " 'H',\n",
       " \"'\",\n",
       " '(',\n",
       " 'R',\n",
       " 'T',\n",
       " 'T',\n",
       " ')',\n",
       " \"'\",\n",
       " '.',\n",
       " 'K',\n",
       " ',',\n",
       " 'M',\n",
       " 'Z',\n",
       " 'I',\n",
       " 'T',\n",
       " ',',\n",
       " 'S',\n",
       " 'G',\n",
       " 'R',\n",
       " '.',\n",
       " 'M',\n",
       " 'Z',\n",
       " '.',\n",
       " 'W',\n",
       " ',',\n",
       " \"'\",\n",
       " '.',\n",
       " 'T',\n",
       " ',',\n",
       " '.',\n",
       " 'W',\n",
       " ',',\n",
       " '.',\n",
       " 'W',\n",
       " ',',\n",
       " '.',\n",
       " 'I',\n",
       " \"'\",\n",
       " ',',\n",
       " '.',\n",
       " 'B',\n",
       " ',',\n",
       " '.',\n",
       " 'T',\n",
       " '.',\n",
       " 'W',\n",
       " ',',\n",
       " '.',\n",
       " 'T',\n",
       " 'M',\n",
       " 'B',\n",
       " '.',\n",
       " 'L',\n",
       " \"'\",\n",
       " 'T',\n",
       " ',',\n",
       " '.',\n",
       " 'U',\n",
       " 'T',\n",
       " ',',\n",
       " 'T',\n",
       " '.',\n",
       " 'T',\n",
       " '.',\n",
       " 'I',\n",
       " \"'\",\n",
       " \"'\",\n",
       " '.',\n",
       " 'T',\n",
       " \"'\",\n",
       " '.',\n",
       " 'T',\n",
       " \"'\",\n",
       " ',',\n",
       " \"'\",\n",
       " \"'\",\n",
       " '.',\n",
       " 'A',\n",
       " ',',\n",
       " ',',\n",
       " 'T',\n",
       " '.',\n",
       " 'M',\n",
       " 'Z',\n",
       " '\"',\n",
       " '\"',\n",
       " \"'\",\n",
       " '.',\n",
       " 'I',\n",
       " '.',\n",
       " 'B',\n",
       " '.',\n",
       " 'T',\n",
       " ',',\n",
       " 'M',\n",
       " \"'\",\n",
       " '.',\n",
       " 'C',\n",
       " \"'\",\n",
       " ',',\n",
       " '.',\n",
       " 'Y',\n",
       " 'E',\n",
       " 'M',\n",
       " '.',\n",
       " '\"',\n",
       " 'T',\n",
       " \"'\",\n",
       " ',',\n",
       " '\"',\n",
       " 'M',\n",
       " '.',\n",
       " 'B',\n",
       " 'M',\n",
       " 'Z',\n",
       " 'T',\n",
       " 'M',\n",
       " \"'\",\n",
       " ',',\n",
       " ',',\n",
       " '.',\n",
       " 'A',\n",
       " ',',\n",
       " ',',\n",
       " ',',\n",
       " 'M',\n",
       " 'M',\n",
       " '.']"
      ]
     },
     "execution_count": 64,
     "metadata": {},
     "output_type": "execute_result"
    }
   ],
   "source": [
    "# 3. a.\n",
    "pattern = r'''(?x)# set flag to allow verbose regexps\n",
    "[][.,;\"'?():-_']# separate special character tokens'''\n",
    "\n",
    "nltk.regexp_tokenize(text, pattern)"
   ]
  },
  {
   "cell_type": "code",
   "execution_count": 65,
   "id": "7d630840-233a-4aee-9a38-3a51198ea3ba",
   "metadata": {
    "collapsed": true,
    "jupyter": {
     "outputs_hidden": true
    },
    "tags": []
   },
   "outputs": [
    {
     "data": {
      "text/plain": [
       "[('', '', '', ''),\n",
       " ('', '', '', ''),\n",
       " ('', '', '', ''),\n",
       " ('', '', '', ''),\n",
       " ('', '', '', ''),\n",
       " ('', '', '', ''),\n",
       " ('', '', '', ''),\n",
       " ('', '', '', ''),\n",
       " ('', '', '', ''),\n",
       " ('', '', '', ''),\n",
       " ('', '', '', ''),\n",
       " ('', '', '', ''),\n",
       " ('', '', '', ''),\n",
       " ('', '', '', ''),\n",
       " ('', '', '', ''),\n",
       " ('', '', '', ''),\n",
       " ('', '', '', ''),\n",
       " ('', '', '', ''),\n",
       " ('', '', '', ''),\n",
       " ('', '', '', ''),\n",
       " ('', '', '', ''),\n",
       " ('', '', '', ''),\n",
       " ('', '', '', ''),\n",
       " ('', '', '', ''),\n",
       " ('', '', '', ''),\n",
       " ('', '', '', ''),\n",
       " ('', '', '', ''),\n",
       " ('', '', '', ''),\n",
       " ('', '', '', ''),\n",
       " ('', '', '', ''),\n",
       " ('', '', '', ''),\n",
       " ('', '', '', ''),\n",
       " ('', '', '', ''),\n",
       " ('', '', '', ''),\n",
       " ('', '', '', ''),\n",
       " ('', '', '', ''),\n",
       " ('', '', '', ''),\n",
       " ('', '', '', ''),\n",
       " ('', '', '', ''),\n",
       " ('', '', '', ''),\n",
       " ('', '', '', ''),\n",
       " ('', '', '', ''),\n",
       " ('', '', '', ''),\n",
       " ('', '', '', ''),\n",
       " ('', '', '', ''),\n",
       " ('', '', '', ''),\n",
       " ('', '', '', ''),\n",
       " ('', '', '', ''),\n",
       " ('', '', '', ''),\n",
       " ('', '', '', ''),\n",
       " ('', '', '', ''),\n",
       " ('', '', '', ''),\n",
       " ('', '', '', ''),\n",
       " ('', '', '', ''),\n",
       " ('', '', '', ''),\n",
       " ('', '', '', ''),\n",
       " ('', '', '', ''),\n",
       " ('', '', '', ''),\n",
       " ('', '', '', ''),\n",
       " ('', '', '', ''),\n",
       " ('', '', '', ''),\n",
       " ('', '', '', ''),\n",
       " ('', '', '', ''),\n",
       " ('', '', '', ''),\n",
       " ('', '', '', ''),\n",
       " ('', '', '', ''),\n",
       " ('', '', '', ''),\n",
       " ('', '', '', ''),\n",
       " ('', '', '', ''),\n",
       " ('', '', '', ''),\n",
       " ('', '', '', ''),\n",
       " ('', '', '', ''),\n",
       " ('', '', '', ''),\n",
       " ('', '', '', ''),\n",
       " ('', '', '', ''),\n",
       " ('', '', '', ''),\n",
       " ('', '', '', ''),\n",
       " ('', '', '', ''),\n",
       " ('', '', '', ''),\n",
       " ('', '', '', ''),\n",
       " ('', '', '', ''),\n",
       " ('', '', '', ''),\n",
       " ('', '', '', ''),\n",
       " ('', '', '', ''),\n",
       " ('', '', '', ''),\n",
       " ('', '', '', ''),\n",
       " ('', '', '', ''),\n",
       " ('', '', '', ''),\n",
       " ('', '', '', ''),\n",
       " ('', '', '', ''),\n",
       " ('', '', '', ''),\n",
       " ('', '', '', ''),\n",
       " ('', '', '', ''),\n",
       " ('', '', '', ''),\n",
       " ('', '', '', ''),\n",
       " ('', '', '', ''),\n",
       " ('', '', '', ''),\n",
       " ('', '', '', ''),\n",
       " ('', '', '', ''),\n",
       " ('', '', '', ''),\n",
       " ('', '', '', ''),\n",
       " ('', '', '', ''),\n",
       " ('', '', '', ''),\n",
       " ('', '', '', ''),\n",
       " ('', '', '', ''),\n",
       " ('', '', '', ''),\n",
       " ('', '', '', ''),\n",
       " ('', '', '', ''),\n",
       " ('', '', '', ''),\n",
       " ('', '', '', ''),\n",
       " ('', '', '', ''),\n",
       " ('', '', '', ''),\n",
       " ('', '', '', ''),\n",
       " ('', '', '', ''),\n",
       " ('', '', '', ''),\n",
       " ('', '', '', ''),\n",
       " ('', '', '', ''),\n",
       " ('', '', '', ''),\n",
       " ('', '', '', ''),\n",
       " ('', '', '', ''),\n",
       " ('', '', '', ''),\n",
       " ('', '', '', ''),\n",
       " ('', '', '', ''),\n",
       " ('', '', '', ''),\n",
       " ('', '', '', ''),\n",
       " ('', '', '', ''),\n",
       " ('', '', '', ''),\n",
       " ('', '', '', ''),\n",
       " ('', '', '', ''),\n",
       " ('', '', '', ''),\n",
       " ('', '', '', ''),\n",
       " ('', '', '', ''),\n",
       " ('', '', '', ''),\n",
       " ('', '', '', ''),\n",
       " ('', '', '', ''),\n",
       " ('', '', '', ''),\n",
       " ('', '', '', ''),\n",
       " ('', '', '', ''),\n",
       " ('', '', '', ''),\n",
       " ('', '', '', ''),\n",
       " ('', '', '', ''),\n",
       " ('', '', '', ''),\n",
       " ('', '', '', ''),\n",
       " ('', '', '', ''),\n",
       " ('', '', '', ''),\n",
       " ('', '', '', ''),\n",
       " ('', '', '', ''),\n",
       " ('', '', '', ''),\n",
       " ('', '', '', ''),\n",
       " ('', '', '', ''),\n",
       " ('', '', '', ''),\n",
       " ('', '', '', ''),\n",
       " ('', '', '', ''),\n",
       " ('', '', '', ''),\n",
       " ('', '', '', ''),\n",
       " ('', '', '', ''),\n",
       " ('', '', '', ''),\n",
       " ('', '', '', ''),\n",
       " ('', '', '', ''),\n",
       " ('', '', '', ''),\n",
       " ('', '', '', ''),\n",
       " ('', '', '', ''),\n",
       " ('', '', '', ''),\n",
       " ('', '', '', ''),\n",
       " ('', '', '', ''),\n",
       " ('', '', '', ''),\n",
       " ('', '', '', ''),\n",
       " ('', '', '', ''),\n",
       " ('', '', '', ''),\n",
       " ('', '', '', ''),\n",
       " ('', '', '', ''),\n",
       " ('', '', '', ''),\n",
       " ('', '', '', ''),\n",
       " ('', '', '', ''),\n",
       " ('', '', '', ''),\n",
       " ('', '', '', ''),\n",
       " ('', '', '', ''),\n",
       " ('', '', '', ''),\n",
       " ('', '', '', ''),\n",
       " ('', '', '', ''),\n",
       " ('', '', '', ''),\n",
       " ('', '', '', ''),\n",
       " ('', '', '', ''),\n",
       " ('', '', '', ''),\n",
       " ('', '', '', ''),\n",
       " ('', '', '', ''),\n",
       " ('', '', '', ''),\n",
       " ('', '', '', ''),\n",
       " ('', '', '', ''),\n",
       " ('', '', '', ''),\n",
       " ('', '', '', ''),\n",
       " ('', '', '', ''),\n",
       " ('', '', '', ''),\n",
       " ('', '', '', ''),\n",
       " ('', '', '', ''),\n",
       " ('', '', '', ''),\n",
       " ('', '', '', ''),\n",
       " ('', '', '', ''),\n",
       " ('', '', '', ''),\n",
       " ('', '', '', ''),\n",
       " ('', '', '', ''),\n",
       " ('', '', '', ''),\n",
       " ('', '', '', ''),\n",
       " ('', '', '', ''),\n",
       " ('', '', '', ''),\n",
       " ('', '', '', ''),\n",
       " ('', '', '', ''),\n",
       " ('', '', '', ''),\n",
       " ('', '', '', ''),\n",
       " ('', '', '', ''),\n",
       " ('', '', '', ''),\n",
       " ('', '', '', ''),\n",
       " ('', '', '', ''),\n",
       " ('', '', '', ''),\n",
       " ('', '', '', ''),\n",
       " ('', '', '', ''),\n",
       " ('', '', '', ''),\n",
       " ('', '', '', ''),\n",
       " ('', '', '', ''),\n",
       " ('', '', '', ''),\n",
       " ('', '', '', ''),\n",
       " ('', '', '', ''),\n",
       " ('', '', '', ''),\n",
       " ('', '', '', ''),\n",
       " ('', '', '', ''),\n",
       " ('', '', '', ''),\n",
       " ('', '', '', ''),\n",
       " ('', '', '', ''),\n",
       " ('', '', '', ''),\n",
       " ('', '', '', ''),\n",
       " ('', '', '', ''),\n",
       " ('', '', '', ''),\n",
       " ('', '', '', ''),\n",
       " ('', '', '', ''),\n",
       " ('', '', '', ''),\n",
       " ('', '', '', ''),\n",
       " ('', '', '', ''),\n",
       " ('', '', '', ''),\n",
       " ('', '', '', ''),\n",
       " ('', '', '', ''),\n",
       " ('', '', '', ''),\n",
       " ('', '', '', ''),\n",
       " ('', '', '', ''),\n",
       " ('', '', '', ''),\n",
       " ('', '', '', ''),\n",
       " ('', '', '', ''),\n",
       " ('', '', '', ''),\n",
       " ('', '', '', ''),\n",
       " ('', '', '', ''),\n",
       " ('', '', '', ''),\n",
       " ('', '', '', ''),\n",
       " ('', '', '', ''),\n",
       " ('', '', '', ''),\n",
       " ('', '', '', ''),\n",
       " ('', '', '', ''),\n",
       " ('', '', '', ''),\n",
       " ('', '', '', ''),\n",
       " ('', '', '', ''),\n",
       " ('', '', '', ''),\n",
       " ('', '', '', ''),\n",
       " ('', '', '', ''),\n",
       " ('', '', '', ''),\n",
       " ('', '', '', ''),\n",
       " ('', '', '', ''),\n",
       " ('', '', '', ''),\n",
       " ('', '', '', ''),\n",
       " ('', '', '', ''),\n",
       " ('', '', '', ''),\n",
       " ('', '', '', ''),\n",
       " ('', '', '', ''),\n",
       " ('', '', '', ''),\n",
       " ('', '', '', ''),\n",
       " ('', '', '', ''),\n",
       " ('', '', '', ''),\n",
       " ('', '', '', ''),\n",
       " ('', '', '', ''),\n",
       " ('', '', '', ''),\n",
       " ('', '', '', ''),\n",
       " ('', '', '', ''),\n",
       " ('', '', '', ''),\n",
       " ('', '', '', ''),\n",
       " ('', '', '', ''),\n",
       " ('', '', '', ''),\n",
       " ('', '', '', ''),\n",
       " ('', '', '', ''),\n",
       " ('', '', '', ''),\n",
       " ('', '', '', ''),\n",
       " ('', '', '', ''),\n",
       " ('', '', '', ''),\n",
       " ('', '', '', ''),\n",
       " ('', '', '', ''),\n",
       " ('', '', '', ''),\n",
       " ('', '', '', ''),\n",
       " ('', '', '', ''),\n",
       " ('', '', '', ''),\n",
       " ('', '', '', ''),\n",
       " ('', '', '', ''),\n",
       " ('', '', '', ''),\n",
       " ('', '', '', ''),\n",
       " ('', '', '', ''),\n",
       " ('', '', '', ''),\n",
       " ('', '', '', ''),\n",
       " ('', '', '', ''),\n",
       " ('', '', '', ''),\n",
       " ('', '', '', ''),\n",
       " ('', '', '', ''),\n",
       " ('', '', '', ''),\n",
       " ('', '', '', ''),\n",
       " ('', '', '', ''),\n",
       " ('', '', '', ''),\n",
       " ('', '', '', ''),\n",
       " ('', '', '', ''),\n",
       " ('', '', '', ''),\n",
       " ('', '', '', ''),\n",
       " ('', '', '', ''),\n",
       " ('', '', '', ''),\n",
       " ('', '', '', ''),\n",
       " ('', '', '', ''),\n",
       " ('', '', '', ''),\n",
       " ('', '', '', ''),\n",
       " ('', '', '', ''),\n",
       " ('', '', '', ''),\n",
       " ('', '', '', ''),\n",
       " ('', '', '', ''),\n",
       " ('', '', '', ''),\n",
       " ('', '', '', ''),\n",
       " ('', '', '', ''),\n",
       " ('', '', '', ''),\n",
       " ('', '', '', ''),\n",
       " ('', '', '', ''),\n",
       " ('', '', '', ''),\n",
       " ('', '', '', ''),\n",
       " ('', '', '', ''),\n",
       " ('', '', '', ''),\n",
       " ('', '', '', ''),\n",
       " ('', '', '', ''),\n",
       " ('', '', '', ''),\n",
       " ('', '', '', ''),\n",
       " ('', '', '', ''),\n",
       " ('', '', '', ''),\n",
       " ('', '', '', ''),\n",
       " ('', '', '', ''),\n",
       " ('', '', '', ''),\n",
       " ('', '', '', ''),\n",
       " ('', '', '', ''),\n",
       " ('', '', '', ''),\n",
       " ('', '', '', ''),\n",
       " ('', '', '', ''),\n",
       " ('', '', '', ''),\n",
       " ('', '', '', ''),\n",
       " ('', '', '', ''),\n",
       " ('', '', '', ''),\n",
       " ('', '', '', ''),\n",
       " ('', '', '', ''),\n",
       " ('', '', '', ''),\n",
       " ('', '', '', ''),\n",
       " ('', '', '', ''),\n",
       " ('', '', '', ''),\n",
       " ('', '', '', ''),\n",
       " ('', '', '', ''),\n",
       " ('', '', '', ''),\n",
       " ('', '', '', ''),\n",
       " ('', '', '', ''),\n",
       " ('', '', '', ''),\n",
       " ('', '', '', ''),\n",
       " ('', '', '', ''),\n",
       " ('', '', '', ''),\n",
       " ('', '', '', ''),\n",
       " ('', '', '', ''),\n",
       " ('', '', '', ''),\n",
       " ('', '', '', ''),\n",
       " ('', '', '', ''),\n",
       " ('', '', '', ''),\n",
       " ('', '', '', ''),\n",
       " ('', '', '', ''),\n",
       " ('', '', '', ''),\n",
       " ('', '', '', ''),\n",
       " ('', '', '', ''),\n",
       " ('', '', '', ''),\n",
       " ('', '', '', ''),\n",
       " ('', '', '', ''),\n",
       " ('', '', '', ''),\n",
       " ('', '', '', ''),\n",
       " ('', '', '', ''),\n",
       " ('', '', '', ''),\n",
       " ('', '', '', ''),\n",
       " ('', '', '', ''),\n",
       " ('', '', '', ''),\n",
       " ('', '', '', ''),\n",
       " ('', '', '', ''),\n",
       " ('', '', '', ''),\n",
       " ('', '', '', ''),\n",
       " ('', '', '', ''),\n",
       " ('', '', '', ''),\n",
       " ('', '', '', ''),\n",
       " ('', '', '', ''),\n",
       " ('', '', '', ''),\n",
       " ('', '', '', ''),\n",
       " ('', '', '', ''),\n",
       " ('', '', '', ''),\n",
       " ('', '', '', ''),\n",
       " ('', '', '', ''),\n",
       " ('', '', '', ''),\n",
       " ('', '', '', ''),\n",
       " ('', '', '', ''),\n",
       " ('', '', '', ''),\n",
       " ('', '', '', ''),\n",
       " ('', '', '', ''),\n",
       " ('', '', '', ''),\n",
       " ('', '', '', ''),\n",
       " ('', '', '', ''),\n",
       " ('', '', '', ''),\n",
       " ('', '', '', ''),\n",
       " ('', '', '', ''),\n",
       " ('', '', '', ''),\n",
       " ('', '', '', ''),\n",
       " ('', '', '', ''),\n",
       " ('', '', '', ''),\n",
       " ('', '', '', ''),\n",
       " ('', '', '', ''),\n",
       " ('', '', '', ''),\n",
       " ('', '', '', ''),\n",
       " ('', '', '', ''),\n",
       " ('', '', '', ''),\n",
       " ('', '', '', ''),\n",
       " ('', '', '', ''),\n",
       " ('', '', '', ''),\n",
       " ('', '', '', ''),\n",
       " ('', '', '', ''),\n",
       " ('', '', '', ''),\n",
       " ('', '', '', ''),\n",
       " ('', '', '', ''),\n",
       " ('', '', '', ''),\n",
       " ('', '', '', ''),\n",
       " ('', '', '', ''),\n",
       " ('', '', '', ''),\n",
       " ('', '', '', ''),\n",
       " ('', '', '', ''),\n",
       " ('', '', '', ''),\n",
       " ('', '', '', ''),\n",
       " ('', '', '', ''),\n",
       " ('', '', '', ''),\n",
       " ('', '', '', ''),\n",
       " ('', '', '', ''),\n",
       " ('', '', '', ''),\n",
       " ('', '', '', ''),\n",
       " ('', '', '', ''),\n",
       " ('', '', '', ''),\n",
       " ('', '', '', ''),\n",
       " ('', '', '', ''),\n",
       " ('', '', '', ''),\n",
       " ('', '', '', ''),\n",
       " ('', '', '', ''),\n",
       " ('', '', '', ''),\n",
       " ('', '', '', ''),\n",
       " ('', '', '', ''),\n",
       " ('', '', '', ''),\n",
       " ('', '', '', ''),\n",
       " ('', '', '', ''),\n",
       " ('', '', '', ''),\n",
       " ('', '', '', ''),\n",
       " ('', '', '', ''),\n",
       " ('', '', '', ''),\n",
       " ('', '', '', ''),\n",
       " ('', '', '', ''),\n",
       " ('', '', '', ''),\n",
       " ('', '', '', ''),\n",
       " ('', '', '', ''),\n",
       " ('', '', '', ''),\n",
       " ('', '', '', ''),\n",
       " ('', '', '', ''),\n",
       " ('', '', '', ''),\n",
       " ('', '', '', ''),\n",
       " ('', '', '', ''),\n",
       " ('', '', '', ''),\n",
       " ('', '', '', ''),\n",
       " ('', '', '', ''),\n",
       " ('', '', '', ''),\n",
       " ('', '', '', ''),\n",
       " ('', '', '', ''),\n",
       " ('', '', '', ''),\n",
       " ('', '', '', ''),\n",
       " ('', '', '', ''),\n",
       " ('', '', '', ''),\n",
       " ('', '', '', ''),\n",
       " ('', '', '', ''),\n",
       " ('', '', '', ''),\n",
       " ('', '', '', ''),\n",
       " ('', '', '', ''),\n",
       " ('', '', '', ''),\n",
       " ('', '', '', ''),\n",
       " ('', '', '', ''),\n",
       " ('', '', '', ''),\n",
       " ('', '', '', ''),\n",
       " ('', '', '', ''),\n",
       " ('', '', '', ''),\n",
       " ('', '', '', ''),\n",
       " ('', '', '', ''),\n",
       " ('', '', '', ''),\n",
       " ('', '', '', ''),\n",
       " ('', '', '', ''),\n",
       " ('', '', '', ''),\n",
       " ('', '', '', ''),\n",
       " ('', '', '', ''),\n",
       " ('', '', '', ''),\n",
       " ('', '', '', ''),\n",
       " ('', '', '', ''),\n",
       " ('', '', '', ''),\n",
       " ('', '', '', ''),\n",
       " ('', '', '', ''),\n",
       " ('', '', '', ''),\n",
       " ('', '', '', ''),\n",
       " ('', '', '', ''),\n",
       " ('', '', '', ''),\n",
       " ('', '', '', ''),\n",
       " ('', '', '', ''),\n",
       " ('', '', '', ''),\n",
       " ('', '', '', ''),\n",
       " ('', '', '', ''),\n",
       " ('', '', '', ''),\n",
       " ('', '', '', ''),\n",
       " ('', '', '', ''),\n",
       " ('', '', '', ''),\n",
       " ('', '', '', ''),\n",
       " ('', '', '', ''),\n",
       " ('', '', '', ''),\n",
       " ('', '', '', ''),\n",
       " ('', '', '', ''),\n",
       " ('', '', '', ''),\n",
       " ('', '', '', ''),\n",
       " ('', '', '', ''),\n",
       " ('', '', '', ''),\n",
       " ('', '', '', '')]"
      ]
     },
     "execution_count": 65,
     "metadata": {},
     "output_type": "execute_result"
    }
   ],
   "source": [
    "# 3. b. i. ii. iii.\n",
    "pattern = r'''(?x)# set flag to allow verbose regexps\n",
    "| \\$?\\d+(\\.\\d+)?%?# currency and percentages, $12.40, 50% \n",
    "| ^[A-Z][a-zA-Z'\\s]+$ # names of people\n",
    "| ^[A-Za-z0-9\\s.,'-]+$ # names of organizations\n",
    "| ^(0[1-9]|1[0-2])/(0[1-9]|1\\d|2\\d|3[01])/([1-9]\\d{3})$ # dates\n",
    "'''\n",
    "\n",
    "nltk.regexp_tokenize(text, pattern)"
   ]
  },
  {
   "cell_type": "code",
   "execution_count": 66,
   "id": "3ec8a323-9f20-4655-9d15-79ae227c636a",
   "metadata": {
    "collapsed": true,
    "jupyter": {
     "outputs_hidden": true
    },
    "tags": []
   },
   "outputs": [
    {
     "data": {
      "text/plain": [
       "['First',\n",
       " 'Threads',\n",
       " 'Meta',\n",
       " 'Is',\n",
       " 'The',\n",
       " 'Twitter',\n",
       " 'The',\n",
       " 'It',\n",
       " 'Mark',\n",
       " 'Zuckerberg',\n",
       " 'You',\n",
       " 'But',\n",
       " 'That',\n",
       " 'Instagram',\n",
       " 'Meta',\n",
       " 'It',\n",
       " 'Instagram',\n",
       " 'Platforms',\n",
       " 'Bluesky',\n",
       " 'Mastodon',\n",
       " 'They',\n",
       " 'But',\n",
       " 'Mr',\n",
       " 'Zuckerberg',\n",
       " 'He',\n",
       " 'Reels',\n",
       " 'TikTok',\n",
       " 'Knowing',\n",
       " 'Mr',\n",
       " 'Zuckerberg',\n",
       " 'Instagram',\n",
       " 'Threads',\n",
       " 'Shakira',\n",
       " 'Gordon',\n",
       " 'Ramsay',\n",
       " 'Mr',\n",
       " 'Zuckerberg',\n",
       " 'When',\n",
       " 'The',\n",
       " 'When',\n",
       " 'When',\n",
       " 'It',\n",
       " 'But',\n",
       " 'The',\n",
       " 'When',\n",
       " 'Think',\n",
       " 'Myspace',\n",
       " 'Bebo',\n",
       " 'Let',\n",
       " 'Threads',\n",
       " 'Unlike',\n",
       " 'Twitter',\n",
       " 'Threads',\n",
       " 'That',\n",
       " 'It',\n",
       " 'That',\n",
       " 'There',\n",
       " 'And',\n",
       " 'Twitter',\n",
       " 'Mark',\n",
       " 'Zuckerberg',\n",
       " 'It',\n",
       " 'But',\n",
       " 'That',\n",
       " 'Meta',\n",
       " 'Considering',\n",
       " 'You',\n",
       " 'Elon',\n",
       " 'Musk',\n",
       " 'Thank',\n",
       " 'Monday',\n",
       " 'But',\n",
       " 'Mr',\n",
       " 'Zuckerberg',\n",
       " 'Twitter',\n",
       " 'Meta',\n",
       " 'And',\n",
       " 'Mr',\n",
       " 'Musk']"
      ]
     },
     "execution_count": 66,
     "metadata": {},
     "output_type": "execute_result"
    }
   ],
   "source": [
    "# 3. c.\n",
    "pattern = r'''(?x)# set flag to allow verbose regexps\n",
    "\\b[A-Z][a-zA-Z]*\\b# separate special character tokens'''\n",
    "\n",
    "nltk.regexp_tokenize(text, pattern)"
   ]
  },
  {
   "cell_type": "raw",
   "id": "632776c0-d3ca-4756-8cb0-f5515426d152",
   "metadata": {},
   "source": [
    "Collocations and bigrams are linguistic notions used in natural language processing and computational linguistics to analyze word combinations. Each phrase is defined briefly below:\n",
    "\n",
    "Collocations: A collocation is a grouping of words that appear often together in a language. These word pairs are more likely to appear together than by chance alone. Collocations are \"word partners\" that tend to co-occur owing to a language's underlying patterns and customs.\n",
    "\n",
    "Collocations are more than just words that are next to one other. They display reciprocal reliance and semantic cohesiveness to the point that the meaning of the combination exceeds the separate meanings of the words. \"Strong coffee\" and \"fast food,\" for example, are collocations because the phrases \"strong\" and \"fast\" alter the nouns \"coffee\" and \"food\" in a predictable and consistent way.\n",
    "\n",
    "Collocation analysis can give insights on language usage and semantic linkages, and it can be applied to a variety of natural language processing tasks such as information retrieval, text classification, and machine translation.\n",
    "\n",
    "Bigrams: Sequences of two adjacent words that appear together in a text are referred to as bigrams in computational linguistics and text analysis. Bigrams are a form of n-gram, where \"n\" specifies the number of consecutive words taken into account.\n",
    "\n",
    "Researchers can examine bigrams to determine the frequency and patterns of word pairings found in a corpus or text. This analysis can aid in the identification of language patterns, semantic linkages, and contextual interactions between words. Bigrams give information on word co-occurrence that may be utilized for tasks such as language modeling, text prediction, and sentiment analysis.\n",
    "\n",
    "In the sentence \"I love ice cream,\" for example, the bigrams would be \"I love\" and \"love ice\" and \"ice cream.\" Bigrams capture immediate word context and can indicate patterns such as frequently used phrases or grammatical structures.\n",
    "\n",
    "Bigrams can be expanded to trigrams (three-word sequences) or higher-order n-grams for further in-depth language research."
   ]
  },
  {
   "cell_type": "code",
   "execution_count": 67,
   "id": "d122bf13-3e51-4764-b1db-27a0ce17629a",
   "metadata": {
    "collapsed": true,
    "jupyter": {
     "outputs_hidden": true
    },
    "tags": []
   },
   "outputs": [
    {
     "name": "stdout",
     "output_type": "stream",
     "text": [
      "*** Introductory Examples for the NLTK Book ***\n",
      "Loading text1, ..., text9 and sent1, ..., sent9\n",
      "Type the name of the text or sentence to view it.\n",
      "Type: 'texts()' or 'sents()' to list the materials.\n",
      "text1: Moby Dick by Herman Melville 1851\n",
      "text2: Sense and Sensibility by Jane Austen 1811\n",
      "text3: The Book of Genesis\n",
      "text4: Inaugural Address Corpus\n",
      "text5: Chat Corpus\n",
      "text6: Monty Python and the Holy Grail\n",
      "text7: Wall Street Journal\n",
      "text8: Personals Corpus\n",
      "text9: The Man Who Was Thursday by G . K . Chesterton 1908\n",
      "Collocations in text5 (Chat Corpus):\n",
      "wanna chat; PART JOIN; MODE #14-19teens; JOIN PART; PART PART;\n",
      "cute.-ass MP3; MP3 player; JOIN JOIN; times .. .; ACTION watches; guys\n",
      "wanna; song lasts; last night; ACTION sits; -...)...- S.M.R.; Lime\n",
      "Player; Player 12%; dont know; lez gurls; long time\n"
     ]
    }
   ],
   "source": [
    "# 4. a.\n",
    "import nltk\n",
    "from nltk.book import text5, text7\n",
    "\n",
    "print(\"Collocations in text5 (Chat Corpus):\")\n",
    "text5.collocations()"
   ]
  },
  {
   "cell_type": "code",
   "execution_count": 68,
   "id": "7061c678-9f60-43ee-b96b-c55a26b29a58",
   "metadata": {
    "collapsed": true,
    "jupyter": {
     "outputs_hidden": true
    },
    "tags": []
   },
   "outputs": [
    {
     "name": "stdout",
     "output_type": "stream",
     "text": [
      "\n",
      "Collocations in text7 (Wall Street Journal):\n",
      "million *U*; New York; billion *U*; Wall Street; program trading; Mrs.\n",
      "Yeargin; vice president; Stock Exchange; Big Board; Georgia Gulf;\n",
      "chief executive; Dow Jones; S&P 500; says *T*-1; York Stock; last\n",
      "year; Sea Containers; South Korea; American Express; San Francisco\n"
     ]
    }
   ],
   "source": [
    "print(\"\\nCollocations in text7 (Wall Street Journal):\")\n",
    "text7.collocations()"
   ]
  },
  {
   "cell_type": "raw",
   "id": "7f546ed0-4bac-48be-909e-a3b7efd7f6e9",
   "metadata": {},
   "source": [
    "5. a.\n",
    "\n",
    "Farzan = /fɑrˈzɑn/\n",
    "\n",
    "5. b. i. ii. iii.\n",
    "\n",
    "University = /ˌjuːnɪˈvɜːrsɪti/\n",
    "Computer = /kəmˈpjuːtər/\n",
    "Information = /ˌɪnfərˈmeɪʃən/"
   ]
  }
 ],
 "metadata": {
  "kernelspec": {
   "display_name": "Python 3 (ipykernel)",
   "language": "python",
   "name": "python3"
  },
  "language_info": {
   "codemirror_mode": {
    "name": "ipython",
    "version": 3
   },
   "file_extension": ".py",
   "mimetype": "text/x-python",
   "name": "python",
   "nbconvert_exporter": "python",
   "pygments_lexer": "ipython3",
   "version": "3.10.8"
  }
 },
 "nbformat": 4,
 "nbformat_minor": 5
}
