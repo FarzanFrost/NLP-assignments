{
 "cells": [
  {
   "cell_type": "code",
   "execution_count": 1,
   "id": "a17f96a9-e137-471f-9f7f-b5829c51c742",
   "metadata": {
    "collapsed": true,
    "jupyter": {
     "outputs_hidden": true
    },
    "tags": []
   },
   "outputs": [],
   "source": [
    "text = \"\"\"First impressions of Threads: can Meta do this? Is this not somehow plagiarism?\n",
    "\n",
    "The app looks almost identical to Twitter. The news feed, the reposting. It's all incredibly familiar.\n",
    "\n",
    "Mark Zuckerberg claims millions of people have signed up in the first few hours. You should always be sceptical when a tech boss says how many users have signed up to a platform. But it does feel like a lot of people are already on it.\n",
    "\n",
    "That's partly because it's connected to Instagram. Meta isn't creating an app from scratch. It's benefiting from its two billion Instagram followers that are giving it a massive shot in the arm.\n",
    "\n",
    "Platforms like Bluesky and Mastodon did not have this luxury. They started with zero users.\n",
    "\n",
    "But whether this is \"fair\" or not, Mr Zuckerberg doesn't care. He's copied other apps before to great success (Reels is a clone of TikTok) and he's happy to do so again.\n",
    "\n",
    "Knowing the power of celebrity, Mr Zuckerberg has also utilised famous names on Instagram and managed to get some of them on Threads, like Shakira and Gordon Ramsay.\n",
    "\n",
    "Mr Zuckerberg will be thrilled with the buzz around the app. When it comes to social media, it's all about the network effect. The more people use the app, the better the app is.\n",
    "\n",
    "When it comes to social media, the network effect can create a sort of tipping point. When so many of your friends or people you want to hear from are on a platform, you kind of feel you have to join.\n",
    "\n",
    "It's very, very hard to create a network effect on a social media platform. But when it works, it really works. The reverse is also true. When communities leave a social media platform, they can do so quickly - and it can be devastating. Think Myspace or Bebo.\n",
    "\n",
    "Let's go to some of the problems with Threads, though.\n",
    "\n",
    "Unlike Twitter, which has two feeds - a recommendations feed and an option just to see tweets from those you follow - Threads has just one feed that blends your followers and content it thinks you will want. That could get annoying.\n",
    "\n",
    "It doesn't seem to have desktop functionality yet - it doesn't work well on your computer. That's a shame.\n",
    "\n",
    "There doesn't seem to be any trending information, so it's hard to see what's going viral.\n",
    "\n",
    "And when it comes to verification, users can still buy their blue ticks for a monthly fee, just as you can with Twitter.\n",
    "\n",
    "Mark Zuckerberg described the app as an \"initial version\" - and that's what it feels like. It does the basics well. But this is a no-thrills app right now.\n",
    "\n",
    "That said, Meta's boss will be over the moon with how this has gone so far. Considering the bad press he's got over the years, he is reinventing himself as the adult in the room - the sensible tech billionaire who wants a friendly social media platform.\n",
    "\n",
    "You can tell this has riled Elon Musk. \"Thank goodness they're so sanely run,\" he tweeted sarcastically on Monday.\n",
    "\n",
    "But if Mr Zuckerberg was nervous that disaffected Twitter uses would spurn Meta's offer, so far, it looks like those fears were unfounded.\n",
    "\n",
    "And if that is the case, with an app that works perfectly well, if not spectacularly, that could be a real problem for Mr Musk.\"\"\""
   ]
  },
  {
   "cell_type": "code",
   "execution_count": 2,
   "id": "712a68b6-4119-4508-a6ec-34c0da92e516",
   "metadata": {
    "collapsed": true,
    "jupyter": {
     "outputs_hidden": true
    },
    "tags": []
   },
   "outputs": [
    {
     "name": "stdout",
     "output_type": "stream",
     "text": [
      "First impressions of Threads can Meta do this Is this not somehow plagiarism\n",
      "\n",
      "The app looks almost i\n"
     ]
    }
   ],
   "source": [
    "# 1. a. i.\n",
    "import re\n",
    "\n",
    "def remove_non_alphanumeric(string):\n",
    "    # Use regular expression to remove non-alphanumeric characters\n",
    "    cleaned_string = re.sub(r'[^a-zA-Z0-9\\s]', '', string)\n",
    "    return cleaned_string\n",
    "\n",
    "# Example usage\n",
    "cleaned_text = remove_non_alphanumeric(text)\n",
    "print(cleaned_text[:100])\n"
   ]
  },
  {
   "cell_type": "code",
   "execution_count": 3,
   "id": "f75556d8-ce3c-468d-ad14-09472545396b",
   "metadata": {
    "collapsed": true,
    "jupyter": {
     "outputs_hidden": true
    },
    "tags": []
   },
   "outputs": [
    {
     "name": "stdout",
     "output_type": "stream",
     "text": [
      "First impressions of Threads can Meta do this Is this not somehow plagiarism\n",
      "\n",
      "The app looks almost i\n"
     ]
    }
   ],
   "source": [
    "# 1. a. ii.\n",
    "from bs4 import BeautifulSoup\n",
    "\n",
    "def remove_html_tags(text):\n",
    "    # Create a BeautifulSoup object with the input text\n",
    "    soup = BeautifulSoup(text, 'html.parser')\n",
    "    \n",
    "    # Remove all HTML tags from the text\n",
    "    cleaned_text = soup.get_text()\n",
    "    \n",
    "    return cleaned_text\n",
    "\n",
    "cleaned_text = remove_html_tags(cleaned_text)\n",
    "print(cleaned_text[:100])"
   ]
  },
  {
   "cell_type": "code",
   "execution_count": 5,
   "id": "0571132a-bda9-447d-b1f9-3697209ee11e",
   "metadata": {
    "collapsed": true,
    "jupyter": {
     "outputs_hidden": true
    },
    "tags": []
   },
   "outputs": [
    {
     "name": "stdout",
     "output_type": "stream",
     "text": [
      "['First', 'impressions', 'of', 'Threads', 'can', 'Meta', 'do', 'this', 'Is', 'this', 'not', 'somehow', 'plagiarism', 'The', 'app', 'looks', 'almost', 'identical', 'to', 'Twitter', 'The', 'news', 'feed', 'the', 'reposting', 'Its', 'all', 'incredibly', 'familiar', 'Mark', 'Zuckerberg', 'claims', 'millions', 'of', 'people', 'have', 'signed', 'up', 'in', 'the', 'first', 'few', 'hours', 'You', 'should', 'always', 'be', 'sceptical', 'when', 'a', 'tech', 'boss', 'says', 'how', 'many', 'users', 'have', 'signed', 'up', 'to', 'a', 'platform', 'But', 'it', 'does', 'feel', 'like', 'a', 'lot', 'of', 'people', 'are', 'already', 'on', 'it', 'Thats', 'partly', 'because', 'its', 'connected', 'to', 'Instagram', 'Meta', 'isnt', 'creating', 'an', 'app', 'from', 'scratch', 'Its', 'benefiting', 'from', 'its', 'two', 'billion', 'Instagram', 'followers', 'that', 'are', 'giving']\n"
     ]
    }
   ],
   "source": [
    "# 1. a. iii.\n",
    "def tokenize(text):\n",
    "    return text.split()\n",
    "\n",
    "cleaned_text = tokenize(cleaned_text)\n",
    "print(cleaned_text[:100])"
   ]
  },
  {
   "cell_type": "code",
   "execution_count": 6,
   "id": "eb2d2cfe-af34-47fa-9a71-f0d6c291a2ff",
   "metadata": {
    "collapsed": true,
    "jupyter": {
     "outputs_hidden": true
    },
    "tags": []
   },
   "outputs": [
    {
     "name": "stdout",
     "output_type": "stream",
     "text": [
      "['first', 'impressions', 'of', 'threads', 'can', 'meta', 'do', 'this', 'is', 'this', 'not', 'somehow', 'plagiarism', 'the', 'app', 'looks', 'almost', 'identical', 'to', 'twitter', 'the', 'news', 'feed', 'the', 'reposting', 'its', 'all', 'incredibly', 'familiar', 'mark', 'zuckerberg', 'claims', 'millions', 'of', 'people', 'have', 'signed', 'up', 'in', 'the', 'first', 'few', 'hours', 'you', 'should', 'always', 'be', 'sceptical', 'when', 'a', 'tech', 'boss', 'says', 'how', 'many', 'users', 'have', 'signed', 'up', 'to', 'a', 'platform', 'but', 'it', 'does', 'feel', 'like', 'a', 'lot', 'of', 'people', 'are', 'already', 'on', 'it', 'thats', 'partly', 'because', 'its', 'connected', 'to', 'instagram', 'meta', 'isnt', 'creating', 'an', 'app', 'from', 'scratch', 'its', 'benefiting', 'from', 'its', 'two', 'billion', 'instagram', 'followers', 'that', 'are', 'giving']\n"
     ]
    }
   ],
   "source": [
    "# 1. a. iv.\n",
    "def tosimple(text_list):\n",
    "    return [w.lower() for w in text_list]\n",
    "\n",
    "cleaned_text = tosimple(cleaned_text)\n",
    "print(cleaned_text[:100])"
   ]
  },
  {
   "cell_type": "code",
   "execution_count": 7,
   "id": "3cd4638b-54d4-4ed8-8297-06fd278c6c18",
   "metadata": {
    "collapsed": true,
    "jupyter": {
     "outputs_hidden": true
    },
    "tags": []
   },
   "outputs": [
    {
     "name": "stdout",
     "output_type": "stream",
     "text": [
      "Total tokens: 552\n",
      "Unique tokens: 262\n"
     ]
    }
   ],
   "source": [
    "# 1. b\n",
    "def count_tokens(tokens):\n",
    "    # Get the total number of tokens\n",
    "    total_count = len(tokens)\n",
    "    \n",
    "    # Get the count of unique tokens\n",
    "    unique_count = len(set(tokens))\n",
    "    \n",
    "    return total_count, unique_count\n",
    "\n",
    "token_list = cleaned_text\n",
    "total_tokens, unique_tokens = count_tokens(token_list)\n",
    "print(\"Total tokens:\", total_tokens)\n",
    "print(\"Unique tokens:\", unique_tokens)"
   ]
  },
  {
   "cell_type": "code",
   "execution_count": 8,
   "id": "735edb75-b0fd-42ce-9e5f-22280e98fe14",
   "metadata": {
    "collapsed": true,
    "jupyter": {
     "outputs_hidden": true
    },
    "tags": []
   },
   "outputs": [
    {
     "name": "stdout",
     "output_type": "stream",
     "text": [
      "['first', 'impressions', 'threads', 'meta', 'somehow', 'plagiarism', 'app', 'looks', 'almost', 'identical', 'twitter', 'news', 'feed', 'reposting', 'incredibly', 'familiar', 'mark', 'zuckerberg', 'claims', 'millions', 'people', 'signed', 'first', 'hours', 'always', 'sceptical', 'tech', 'boss', 'says', 'many', 'users', 'signed', 'platform', 'feel', 'like', 'lot', 'people', 'already', 'thats', 'partly', 'connected', 'instagram', 'meta', 'isnt', 'creating', 'app', 'scratch', 'benefiting', 'two', 'billion', 'instagram', 'followers', 'giving', 'massive', 'shot', 'arm', 'platforms', 'like', 'bluesky', 'mastodon', 'luxury', 'started', 'zero', 'users', 'whether', 'fair', 'mr', 'zuckerberg', 'doesnt', 'care', 'hes', 'copied', 'apps', 'great', 'success', 'reels', 'clone', 'tiktok', 'hes', 'happy', 'knowing', 'power', 'celebrity', 'mr', 'zuckerberg', 'also', 'utilised', 'famous', 'names', 'instagram', 'managed', 'get', 'threads', 'like', 'shakira', 'gordon', 'ramsay', 'mr', 'zuckerberg', 'thrilled']\n"
     ]
    }
   ],
   "source": [
    "# 1. c\n",
    "import nltk\n",
    "from nltk.corpus import stopwords\n",
    "\n",
    "def remove_stop_words(tokens):\n",
    "    # Get the English stop words from NLTK\n",
    "    stop_words = set(stopwords.words('english'))\n",
    "    \n",
    "    # Remove stop words from the tokens\n",
    "    filtered_tokens = [token for token in tokens if token.lower() not in stop_words]\n",
    "    \n",
    "    return filtered_tokens\n",
    "\n",
    "# Example usage\n",
    "filtered_tokens = remove_stop_words(token_list)\n",
    "\n",
    "print(filtered_tokens[:100])\n"
   ]
  },
  {
   "cell_type": "code",
   "execution_count": 9,
   "id": "4227c710-0ac6-4556-ae74-0d9e67d08261",
   "metadata": {
    "collapsed": true,
    "jupyter": {
     "outputs_hidden": true
    },
    "tags": []
   },
   "outputs": [
    {
     "name": "stdout",
     "output_type": "stream",
     "text": [
      "Total tokens: 285\n",
      "Unique tokens: 199\n"
     ]
    }
   ],
   "source": [
    "# 1. d.\n",
    "total_tokens, unique_tokens = count_tokens(filtered_tokens)\n",
    "print(\"Total tokens:\", total_tokens)\n",
    "print(\"Unique tokens:\", unique_tokens)"
   ]
  },
  {
   "cell_type": "code",
   "execution_count": 10,
   "id": "946088f7-78f8-4564-909d-4a085010da81",
   "metadata": {
    "collapsed": true,
    "jupyter": {
     "outputs_hidden": true
    },
    "tags": []
   },
   "outputs": [
    {
     "data": {
      "text/plain": [
       "['first',\n",
       " 'impress',\n",
       " 'thread',\n",
       " 'meta',\n",
       " 'somehow',\n",
       " 'plagiar',\n",
       " 'app',\n",
       " 'look',\n",
       " 'almost',\n",
       " 'ident',\n",
       " 'twitter',\n",
       " 'news',\n",
       " 'feed',\n",
       " 'repost',\n",
       " 'incred',\n",
       " 'familiar',\n",
       " 'mark',\n",
       " 'zuckerberg',\n",
       " 'claim',\n",
       " 'million',\n",
       " 'peopl',\n",
       " 'sign',\n",
       " 'first',\n",
       " 'hour',\n",
       " 'alway',\n",
       " 'sceptic',\n",
       " 'tech',\n",
       " 'boss',\n",
       " 'say',\n",
       " 'mani',\n",
       " 'user',\n",
       " 'sign',\n",
       " 'platform',\n",
       " 'feel',\n",
       " 'like',\n",
       " 'lot',\n",
       " 'peopl',\n",
       " 'alreadi',\n",
       " 'that',\n",
       " 'partli',\n",
       " 'connect',\n",
       " 'instagram',\n",
       " 'meta',\n",
       " 'isnt',\n",
       " 'creat',\n",
       " 'app',\n",
       " 'scratch',\n",
       " 'benefit',\n",
       " 'two',\n",
       " 'billion',\n",
       " 'instagram',\n",
       " 'follow',\n",
       " 'give',\n",
       " 'massiv',\n",
       " 'shot',\n",
       " 'arm',\n",
       " 'platform',\n",
       " 'like',\n",
       " 'blueski',\n",
       " 'mastodon',\n",
       " 'luxuri',\n",
       " 'start',\n",
       " 'zero',\n",
       " 'user',\n",
       " 'whether',\n",
       " 'fair',\n",
       " 'mr',\n",
       " 'zuckerberg',\n",
       " 'doesnt',\n",
       " 'care',\n",
       " 'he',\n",
       " 'copi',\n",
       " 'app',\n",
       " 'great',\n",
       " 'success',\n",
       " 'reel',\n",
       " 'clone',\n",
       " 'tiktok',\n",
       " 'he',\n",
       " 'happi',\n",
       " 'know',\n",
       " 'power',\n",
       " 'celebr',\n",
       " 'mr',\n",
       " 'zuckerberg',\n",
       " 'also',\n",
       " 'utilis',\n",
       " 'famou',\n",
       " 'name',\n",
       " 'instagram',\n",
       " 'manag',\n",
       " 'get',\n",
       " 'thread',\n",
       " 'like',\n",
       " 'shakira',\n",
       " 'gordon',\n",
       " 'ramsay',\n",
       " 'mr',\n",
       " 'zuckerberg',\n",
       " 'thrill']"
      ]
     },
     "execution_count": 10,
     "metadata": {},
     "output_type": "execute_result"
    }
   ],
   "source": [
    "#1. e\n",
    "from nltk.stem import PorterStemmer\n",
    "stemmer = PorterStemmer()\n",
    "stemmed_words = [stemmer.stem(w) for w in filtered_tokens]\n",
    "stemmed_words[:100]"
   ]
  },
  {
   "cell_type": "code",
   "execution_count": 11,
   "id": "c8e0f616-bcdc-4c85-ab31-1356eb55a9ae",
   "metadata": {
    "collapsed": true,
    "jupyter": {
     "outputs_hidden": true
    },
    "tags": []
   },
   "outputs": [
    {
     "name": "stdout",
     "output_type": "stream",
     "text": [
      "Number of sentences: 42\n"
     ]
    }
   ],
   "source": [
    "# 1. g.\n",
    "\n",
    "import nltk.data\n",
    "\n",
    "def count_sentences(text):\n",
    "    # Load the Punkt sentence tokenizer\n",
    "    tokenizer = nltk.data.load('tokenizers/punkt/english.pickle')\n",
    "    \n",
    "    # Tokenize the text into sentences\n",
    "    sentences = tokenizer.tokenize(text)\n",
    "    \n",
    "    # Count the number of sentences\n",
    "    num_sentences = len(sentences)\n",
    "    \n",
    "    return sentences, num_sentences\n",
    "\n",
    "sentences, num_sentences = count_sentences(text)\n",
    "\n",
    "print(\"Number of sentences:\", num_sentences)"
   ]
  },
  {
   "cell_type": "code",
   "execution_count": 12,
   "id": "15624a21-2807-48b5-8e4f-8f85c18c6fcd",
   "metadata": {
    "collapsed": true,
    "jupyter": {
     "outputs_hidden": true
    },
    "tags": []
   },
   "outputs": [
    {
     "name": "stdout",
     "output_type": "stream",
     "text": [
      "Average words per sentence: 13.69047619047619\n"
     ]
    }
   ],
   "source": [
    "# 1. h.\n",
    "\n",
    "def average_words_per_sentence(sentences):\n",
    "    # Count the number of words in each sentence\n",
    "    num_words_per_sentence = [len(re.findall(r'\\w+', sentence)) for sentence in sentences]\n",
    "    \n",
    "    # Calculate the average number of words per sentence\n",
    "    avg_words_per_sentence = sum(num_words_per_sentence) / len(num_words_per_sentence)\n",
    "    \n",
    "    return avg_words_per_sentence\n",
    "\n",
    "# Example usage\n",
    "avg_words = average_words_per_sentence(sentences)\n",
    "\n",
    "print(\"Average words per sentence:\", avg_words)\n"
   ]
  },
  {
   "cell_type": "code",
   "execution_count": 15,
   "id": "1155d785-3b3b-4ddb-a338-4d9e13b65a9e",
   "metadata": {
    "collapsed": true,
    "jupyter": {
     "outputs_hidden": true
    },
    "tags": []
   },
   "outputs": [
    {
     "name": "stdout",
     "output_type": "stream",
     "text": [
      "('this', 'is', 'a')\n",
      "('is', 'a', 'very')\n",
      "('a', 'very', 'good')\n",
      "('very', 'good', 'book')\n",
      "('good', 'book', 'to')\n",
      "('book', 'to', 'study')\n",
      "['First impressions of', 'impressions of Threads', 'of Threads :', 'Threads : can', ': can Meta', 'can Meta do', 'Meta do this', 'do this ?', 'this ? Is', '? Is this', 'Is this not', 'this not somehow', 'not somehow plagiarism', 'somehow plagiarism ?', 'plagiarism ? The', '? The app', 'The app looks', 'app looks almost', 'looks almost identical', 'almost identical to', 'identical to Twitter', 'to Twitter .', 'Twitter . The', '. The news', 'The news feed', 'news feed ,', 'feed , the', ', the reposting', 'the reposting .', 'reposting . It', \". It 's\", \"It 's all\", \"'s all incredibly\", 'all incredibly familiar', 'incredibly familiar .', 'familiar . Mark', '. Mark Zuckerberg', 'Mark Zuckerberg claims', 'Zuckerberg claims millions', 'claims millions of', 'millions of people', 'of people have', 'people have signed', 'have signed up', 'signed up in', 'up in the', 'in the first', 'the first few', 'first few hours', 'few hours .', 'hours . You', '. You should', 'You should always', 'should always be', 'always be sceptical', 'be sceptical when', 'sceptical when a', 'when a tech', 'a tech boss', 'tech boss says', 'boss says how', 'says how many', 'how many users', 'many users have', 'users have signed', 'have signed up', 'signed up to', 'up to a', 'to a platform', 'a platform .', 'platform . But', '. But it', 'But it does', 'it does feel', 'does feel like', 'feel like a', 'like a lot', 'a lot of', 'lot of people', 'of people are', 'people are already', 'are already on', 'already on it', 'on it .', 'it . That', \". That 's\", \"That 's partly\", \"'s partly because\", 'partly because it', \"because it 's\", \"it 's connected\", \"'s connected to\", 'connected to Instagram', 'to Instagram .', 'Instagram . Meta', '. Meta is', \"Meta is n't\", \"is n't creating\", \"n't creating an\", 'creating an app', 'an app from', 'app from scratch', 'from scratch .', 'scratch . It', \". It 's\", \"It 's benefiting\", \"'s benefiting from\", 'benefiting from its', 'from its two', 'its two billion', 'two billion Instagram', 'billion Instagram followers', 'Instagram followers that', 'followers that are', 'that are giving', 'are giving it', 'giving it a', 'it a massive', 'a massive shot', 'massive shot in', 'shot in the', 'in the arm', 'the arm .', 'arm . Platforms', '. Platforms like', 'Platforms like Bluesky', 'like Bluesky and', 'Bluesky and Mastodon', 'and Mastodon did', 'Mastodon did not', 'did not have', 'not have this', 'have this luxury', 'this luxury .', 'luxury . They', '. They started', 'They started with', 'started with zero', 'with zero users', 'zero users .', 'users . But', '. But whether', 'But whether this', 'whether this is', 'this is ``', 'is `` fair', \"`` fair ''\", \"fair '' or\", \"'' or not\", 'or not ,', 'not , Mr', ', Mr Zuckerberg', 'Mr Zuckerberg does', \"Zuckerberg does n't\", \"does n't care\", \"n't care .\", 'care . He', \". He 's\", \"He 's copied\", \"'s copied other\", 'copied other apps', 'other apps before', 'apps before to', 'before to great', 'to great success', 'great success (', 'success ( Reels', '( Reels is', 'Reels is a', 'is a clone', 'a clone of', 'clone of TikTok', 'of TikTok )', 'TikTok ) and', ') and he', \"and he 's\", \"he 's happy\", \"'s happy to\", 'happy to do', 'to do so', 'do so again', 'so again .', 'again . Knowing', '. Knowing the', 'Knowing the power', 'the power of', 'power of celebrity', 'of celebrity ,', 'celebrity , Mr', ', Mr Zuckerberg', 'Mr Zuckerberg has', 'Zuckerberg has also', 'has also utilised', 'also utilised famous', 'utilised famous names', 'famous names on', 'names on Instagram', 'on Instagram and', 'Instagram and managed', 'and managed to', 'managed to get', 'to get some', 'get some of', 'some of them', 'of them on', 'them on Threads', 'on Threads ,', 'Threads , like', ', like Shakira', 'like Shakira and', 'Shakira and Gordon', 'and Gordon Ramsay', 'Gordon Ramsay .', 'Ramsay . Mr', '. Mr Zuckerberg', 'Mr Zuckerberg will', 'Zuckerberg will be', 'will be thrilled', 'be thrilled with', 'thrilled with the', 'with the buzz', 'the buzz around', 'buzz around the', 'around the app', 'the app .', 'app . When', '. When it', 'When it comes', 'it comes to', 'comes to social', 'to social media', 'social media ,', 'media , it', \", it 's\", \"it 's all\", \"'s all about\", 'all about the', 'about the network', 'the network effect', 'network effect .', 'effect . The', '. The more', 'The more people', 'more people use', 'people use the', 'use the app', 'the app ,', 'app , the', ', the better', 'the better the', 'better the app', 'the app is', 'app is .', 'is . When', '. When it', 'When it comes', 'it comes to', 'comes to social', 'to social media', 'social media ,', 'media , the', ', the network', 'the network effect', 'network effect can', 'effect can create', 'can create a', 'create a sort', 'a sort of', 'sort of tipping', 'of tipping point', 'tipping point .', 'point . When', '. When so', 'When so many', 'so many of', 'many of your', 'of your friends', 'your friends or', 'friends or people', 'or people you', 'people you want', 'you want to', 'want to hear', 'to hear from', 'hear from are', 'from are on', 'are on a', 'on a platform', 'a platform ,', 'platform , you', ', you kind', 'you kind of', 'kind of feel', 'of feel you', 'feel you have', 'you have to', 'have to join', 'to join .', 'join . It', \". It 's\", \"It 's very\", \"'s very ,\", 'very , very', ', very hard', 'very hard to', 'hard to create', 'to create a', 'create a network', 'a network effect', 'network effect on', 'effect on a', 'on a social', 'a social media', 'social media platform', 'media platform .', 'platform . But', '. But when', 'But when it', 'when it works', 'it works ,', 'works , it', ', it really', 'it really works', 'really works .', 'works . The', '. The reverse', 'The reverse is', 'reverse is also', 'is also true', 'also true .', 'true . When', '. When communities', 'When communities leave', 'communities leave a', 'leave a social', 'a social media', 'social media platform', 'media platform ,', 'platform , they', ', they can', 'they can do', 'can do so', 'do so quickly', 'so quickly -', 'quickly - and', '- and it', 'and it can', 'it can be', 'can be devastating', 'be devastating .', 'devastating . Think', '. Think Myspace', 'Think Myspace or', 'Myspace or Bebo', 'or Bebo .', 'Bebo . Let', \". Let 's\", \"Let 's go\", \"'s go to\", 'go to some', 'to some of', 'some of the', 'of the problems', 'the problems with', 'problems with Threads', 'with Threads ,', 'Threads , though', ', though .', 'though . Unlike', '. Unlike Twitter', 'Unlike Twitter ,', 'Twitter , which', ', which has', 'which has two', 'has two feeds', 'two feeds -', 'feeds - a', '- a recommendations', 'a recommendations feed', 'recommendations feed and', 'feed and an', 'and an option', 'an option just', 'option just to', 'just to see', 'to see tweets', 'see tweets from', 'tweets from those', 'from those you', 'those you follow', 'you follow -', 'follow - Threads', '- Threads has', 'Threads has just', 'has just one', 'just one feed', 'one feed that', 'feed that blends', 'that blends your', 'blends your followers', 'your followers and', 'followers and content', 'and content it', 'content it thinks', 'it thinks you', 'thinks you will', 'you will want', 'will want .', 'want . That', '. That could', 'That could get', 'could get annoying', 'get annoying .', 'annoying . It', '. It does', \"It does n't\", \"does n't seem\", \"n't seem to\", 'seem to have', 'to have desktop', 'have desktop functionality', 'desktop functionality yet', 'functionality yet -', 'yet - it', '- it does', \"it does n't\", \"does n't work\", \"n't work well\", 'work well on', 'well on your', 'on your computer', 'your computer .', 'computer . That', \". That 's\", \"That 's a\", \"'s a shame\", 'a shame .', 'shame . There', '. There does', \"There does n't\", \"does n't seem\", \"n't seem to\", 'seem to be', 'to be any', 'be any trending', 'any trending information', 'trending information ,', 'information , so', ', so it', \"so it 's\", \"it 's hard\", \"'s hard to\", 'hard to see', 'to see what', \"see what 's\", \"what 's going\", \"'s going viral\", 'going viral .', 'viral . And', '. And when', 'And when it', 'when it comes', 'it comes to', 'comes to verification', 'to verification ,', 'verification , users', ', users can', 'users can still', 'can still buy', 'still buy their', 'buy their blue', 'their blue ticks', 'blue ticks for', 'ticks for a', 'for a monthly', 'a monthly fee', 'monthly fee ,', 'fee , just', ', just as', 'just as you', 'as you can', 'you can with', 'can with Twitter', 'with Twitter .', 'Twitter . Mark', '. Mark Zuckerberg', 'Mark Zuckerberg described', 'Zuckerberg described the', 'described the app', 'the app as', 'app as an', 'as an ``', 'an `` initial', '`` initial version', \"initial version ''\", \"version '' -\", \"'' - and\", '- and that', \"and that 's\", \"that 's what\", \"'s what it\", 'what it feels', 'it feels like', 'feels like .', 'like . It', '. It does', 'It does the', 'does the basics', 'the basics well', 'basics well .', 'well . But', '. But this', 'But this is', 'this is a', 'is a no-thrills', 'a no-thrills app', 'no-thrills app right', 'app right now', 'right now .', 'now . That', '. That said', 'That said ,', 'said , Meta', \", Meta 's\", \"Meta 's boss\", \"'s boss will\", 'boss will be', 'will be over', 'be over the', 'over the moon', 'the moon with', 'moon with how', 'with how this', 'how this has', 'this has gone', 'has gone so', 'gone so far', 'so far .', 'far . Considering', '. Considering the', 'Considering the bad', 'the bad press', 'bad press he', \"press he 's\", \"he 's got\", \"'s got over\", 'got over the', 'over the years', 'the years ,', 'years , he', ', he is', 'he is reinventing', 'is reinventing himself', 'reinventing himself as', 'himself as the', 'as the adult', 'the adult in', 'adult in the', 'in the room', 'the room -', 'room - the', '- the sensible', 'the sensible tech', 'sensible tech billionaire', 'tech billionaire who', 'billionaire who wants', 'who wants a', 'wants a friendly', 'a friendly social', 'friendly social media', 'social media platform', 'media platform .', 'platform . You', '. You can', 'You can tell', 'can tell this', 'tell this has', 'this has riled', 'has riled Elon', 'riled Elon Musk', 'Elon Musk .', 'Musk . ``', '. `` Thank', '`` Thank goodness', 'Thank goodness they', \"goodness they 're\", \"they 're so\", \"'re so sanely\", 'so sanely run', 'sanely run ,', \"run , ''\", \", '' he\", \"'' he tweeted\", 'he tweeted sarcastically', 'tweeted sarcastically on', 'sarcastically on Monday', 'on Monday .', 'Monday . But', '. But if', 'But if Mr', 'if Mr Zuckerberg', 'Mr Zuckerberg was', 'Zuckerberg was nervous', 'was nervous that', 'nervous that disaffected', 'that disaffected Twitter', 'disaffected Twitter uses', 'Twitter uses would', 'uses would spurn', 'would spurn Meta', \"spurn Meta 's\", \"Meta 's offer\", \"'s offer ,\", 'offer , so', ', so far', 'so far ,', 'far , it', ', it looks', 'it looks like', 'looks like those', 'like those fears', 'those fears were', 'fears were unfounded', 'were unfounded .', 'unfounded . And', '. And if', 'And if that', 'if that is', 'that is the', 'is the case', 'the case ,', 'case , with', ', with an', 'with an app', 'an app that', 'app that works', 'that works perfectly', 'works perfectly well', 'perfectly well ,', 'well , if', ', if not', 'if not spectacularly', 'not spectacularly ,', 'spectacularly , that', ', that could', 'that could be', 'could be a', 'be a real', 'a real problem', 'real problem for', 'problem for Mr', 'for Mr Musk', 'Mr Musk .']\n"
     ]
    }
   ],
   "source": [
    "# 2. \n",
    "import nltk\n",
    "from nltk.util import ngrams\n",
    "\n",
    "samplText = 'this is a very good book to study'\n",
    "NGRAMS = ngrams(sequence=nltk.word_tokenize(samplText), n=3)\n",
    "for grams in NGRAMS:\n",
    "    print(grams)\n",
    "    \n",
    "def extract_ngrams(data,num):\n",
    "    n_grams = ngrams(nltk.word_tokenize(data), num)\n",
    "    return [' '.join(grams) for grams in n_grams]\n",
    "print(extract_ngrams(text,3))"
   ]
  },
  {
   "cell_type": "code",
   "execution_count": 18,
   "id": "4375b603-a3eb-404e-a03a-c997aad02d9b",
   "metadata": {
    "collapsed": true,
    "jupyter": {
     "outputs_hidden": true
    },
    "tags": []
   },
   "outputs": [
    {
     "name": "stdout",
     "output_type": "stream",
     "text": [
      "[('I', 'PRON'), ('saw', 'VERB'), ('the', 'DET'), ('man', 'NOUN'), ('with', 'ADP'), ('the', 'DET'), ('telescope', 'NOUN'), ('but', 'CONJ'), ('he', 'PRON'), ('did', 'VERB'), (\"n't\", 'ADV'), ('see', 'VERB'), ('me', 'PRON')]\n",
      "[('Pierre', 'NNP'), ('Vinken', 'NNP'), (',', ','), ('61', 'CD'), ('years', 'NNS'), ('old', 'JJ'), (',', ','), ('will', 'MD'), ('join', 'VB'), ('the', 'DT'), ('board', 'NN'), ('as', 'IN'), ('a', 'DT'), ('nonexecutive', 'JJ'), ('director', 'NN'), ('Nov.', 'NNP'), ('29', 'CD'), ('.', '.')]\n"
     ]
    },
    {
     "name": "stderr",
     "output_type": "stream",
     "text": [
      "C:\\Users\\User\\AppData\\Local\\Temp\\ipykernel_11072\\1525772659.py:47: DeprecationWarning: \n",
      "  Function evaluate() has been deprecated.  Use accuracy(gold)\n",
      "  instead.\n",
      "  print(dt.evaluate(test_data))\n"
     ]
    },
    {
     "name": "stdout",
     "output_type": "stream",
     "text": [
      "0.1454158195372253\n",
      "[('I', 'NN'), ('saw', 'NN'), ('the', 'NN'), ('man', 'NN'), ('with', 'NN'), ('the', 'NN'), ('telescope', 'NN'), ('but', 'NN'), ('he', 'NN'), ('did', 'NN'), (\"n't\", 'NN'), ('see', 'NN'), ('me', 'NN')]\n"
     ]
    },
    {
     "name": "stderr",
     "output_type": "stream",
     "text": [
      "C:\\Users\\User\\AppData\\Local\\Temp\\ipykernel_11072\\1525772659.py:67: DeprecationWarning: \n",
      "  Function evaluate() has been deprecated.  Use accuracy(gold)\n",
      "  instead.\n",
      "  print(rt.evaluate(test_data))\n"
     ]
    },
    {
     "name": "stdout",
     "output_type": "stream",
     "text": [
      "0.24039113176493368\n",
      "[('I', 'NN'), ('saw', 'NN'), ('the', 'NN'), ('man', 'NN'), ('with', 'NN'), ('the', 'NN'), ('telescope', 'NN'), ('but', 'NN'), ('he', 'NN'), ('did', 'NN'), (\"n't\", 'NN'), ('see', 'NN'), ('me', 'NN')]\n"
     ]
    },
    {
     "name": "stderr",
     "output_type": "stream",
     "text": [
      "C:\\Users\\User\\AppData\\Local\\Temp\\ipykernel_11072\\1525772659.py:87: DeprecationWarning: \n",
      "  Function evaluate() has been deprecated.  Use accuracy(gold)\n",
      "  instead.\n",
      "  print(ut.evaluate(test_data))\n"
     ]
    },
    {
     "name": "stdout",
     "output_type": "stream",
     "text": [
      "0.8607803272340013\n",
      "[('I', 'PRP'), ('saw', 'VBD'), ('the', 'DT'), ('man', 'NN'), ('with', 'IN'), ('the', 'DT'), ('telescope', None), ('but', 'CC'), ('he', 'PRP'), ('did', 'VBD'), (\"n't\", 'RB'), ('see', 'VB'), ('me', 'PRP')]\n"
     ]
    },
    {
     "name": "stderr",
     "output_type": "stream",
     "text": [
      "C:\\Users\\User\\AppData\\Local\\Temp\\ipykernel_11072\\1525772659.py:91: DeprecationWarning: \n",
      "  Function evaluate() has been deprecated.  Use accuracy(gold)\n",
      "  instead.\n",
      "  print(bt.evaluate(test_data))\n"
     ]
    },
    {
     "name": "stdout",
     "output_type": "stream",
     "text": [
      "0.13466937748087907\n",
      "[('I', 'PRP'), ('saw', None), ('the', None), ('man', None), ('with', None), ('the', None), ('telescope', None), ('but', None), ('he', None), ('did', None), (\"n't\", None), ('see', None), ('me', None)]\n"
     ]
    },
    {
     "name": "stderr",
     "output_type": "stream",
     "text": [
      "C:\\Users\\User\\AppData\\Local\\Temp\\ipykernel_11072\\1525772659.py:95: DeprecationWarning: \n",
      "  Function evaluate() has been deprecated.  Use accuracy(gold)\n",
      "  instead.\n",
      "  print(tt.evaluate(test_data))\n"
     ]
    },
    {
     "name": "stdout",
     "output_type": "stream",
     "text": [
      "0.08064672281924679\n",
      "[('I', 'PRP'), ('saw', None), ('the', None), ('man', None), ('with', None), ('the', None), ('telescope', None), ('but', None), ('he', None), ('did', None), (\"n't\", None), ('see', None), ('me', None)]\n"
     ]
    },
    {
     "name": "stderr",
     "output_type": "stream",
     "text": [
      "C:\\Users\\User\\AppData\\Local\\Temp\\ipykernel_11072\\1525772659.py:109: DeprecationWarning: \n",
      "  Function evaluate() has been deprecated.  Use accuracy(gold)\n",
      "  instead.\n",
      "  print(ct.evaluate(test_data))\n"
     ]
    },
    {
     "name": "stdout",
     "output_type": "stream",
     "text": [
      "0.9094781682641108\n",
      "[('I', 'PRP'), ('saw', 'VBD'), ('the', 'DT'), ('man', 'NN'), ('with', 'IN'), ('the', 'DT'), ('telescope', 'NN'), ('but', 'CC'), ('he', 'PRP'), ('did', 'VBD'), (\"n't\", 'RB'), ('see', 'VB'), ('me', 'PRP')]\n"
     ]
    },
    {
     "name": "stderr",
     "output_type": "stream",
     "text": [
      "C:\\Users\\User\\AppData\\Local\\Temp\\ipykernel_11072\\1525772659.py:126: DeprecationWarning: \n",
      "  Function evaluate() has been deprecated.  Use accuracy(gold)\n",
      "  instead.\n",
      "  print(nbt.evaluate(test_data))\n"
     ]
    },
    {
     "name": "stdout",
     "output_type": "stream",
     "text": [
      "0.9306806079969019\n",
      "[('I', 'PRP'), ('saw', 'VBD'), ('the', 'DT'), ('man', 'NN'), ('with', 'IN'), ('the', 'DT'), ('telescope', 'NN'), ('but', 'CC'), ('he', 'PRP'), ('did', 'VBD'), (\"n't\", 'RB'), ('see', 'VB'), ('me', 'PRP')]\n",
      "  ==> Training (10 iterations)\n",
      "\n",
      "      Iteration    Log Likelihood    Accuracy\n",
      "      ---------------------------------------\n",
      "             1          -3.82864        0.007\n",
      "             2          -0.76176        0.957\n"
     ]
    },
    {
     "name": "stderr",
     "output_type": "stream",
     "text": [
      "C:\\Users\\User\\AppData\\Roaming\\Python\\Python310\\site-packages\\nltk\\classify\\maxent.py:1381: RuntimeWarning: overflow encountered in power\n",
      "  exp_nf_delta = 2**nf_delta\n",
      "C:\\Users\\User\\AppData\\Roaming\\Python\\Python310\\site-packages\\nltk\\classify\\maxent.py:1383: RuntimeWarning: invalid value encountered in multiply\n",
      "  sum1 = numpy.sum(exp_nf_delta * A, axis=0)\n",
      "C:\\Users\\User\\AppData\\Roaming\\Python\\Python310\\site-packages\\nltk\\classify\\maxent.py:1384: RuntimeWarning: invalid value encountered in multiply\n",
      "  sum2 = numpy.sum(nf_exp_nf_delta * A, axis=0)\n"
     ]
    },
    {
     "name": "stdout",
     "output_type": "stream",
     "text": [
      "         Final               nan        0.984\n"
     ]
    },
    {
     "name": "stderr",
     "output_type": "stream",
     "text": [
      "C:\\Users\\User\\AppData\\Local\\Temp\\ipykernel_11072\\1525772659.py:138: DeprecationWarning: \n",
      "  Function evaluate() has been deprecated.  Use accuracy(gold)\n",
      "  instead.\n",
      "  print(met.evaluate(test_data))\n"
     ]
    },
    {
     "name": "stdout",
     "output_type": "stream",
     "text": [
      "0.9270016458514861\n",
      "[('I', 'PRP'), ('saw', 'VBD'), ('the', 'DT'), ('man', 'NN'), ('with', 'IN'), ('the', 'DT'), ('telescope', 'NN'), ('but', 'CC'), ('he', 'PRP'), ('did', 'VBD'), (\"n't\", 'RB'), ('see', 'VB'), ('me', 'PRP')]\n",
      "Tagger accuracies:\n",
      "\n"
     ]
    },
    {
     "name": "stderr",
     "output_type": "stream",
     "text": [
      "C:\\Users\\User\\AppData\\Local\\Temp\\ipykernel_11072\\1525772659.py:145: DeprecationWarning: \n",
      "  Function evaluate() has been deprecated.  Use accuracy(gold)\n",
      "  instead.\n",
      "  print('Default tagger %.2f' %dt.evaluate(test_data))\n"
     ]
    },
    {
     "name": "stdout",
     "output_type": "stream",
     "text": [
      "Default tagger 0.15\n"
     ]
    },
    {
     "name": "stderr",
     "output_type": "stream",
     "text": [
      "C:\\Users\\User\\AppData\\Local\\Temp\\ipykernel_11072\\1525772659.py:146: DeprecationWarning: \n",
      "  Function evaluate() has been deprecated.  Use accuracy(gold)\n",
      "  instead.\n",
      "  print('Regex tagger %.2f' %rt.evaluate(test_data))\n"
     ]
    },
    {
     "name": "stdout",
     "output_type": "stream",
     "text": [
      "Regex tagger 0.24\n"
     ]
    },
    {
     "name": "stderr",
     "output_type": "stream",
     "text": [
      "C:\\Users\\User\\AppData\\Local\\Temp\\ipykernel_11072\\1525772659.py:147: DeprecationWarning: \n",
      "  Function evaluate() has been deprecated.  Use accuracy(gold)\n",
      "  instead.\n",
      "  print('Unigram tagger %.2f' %ut.evaluate(test_data))\n"
     ]
    },
    {
     "name": "stdout",
     "output_type": "stream",
     "text": [
      "Unigram tagger 0.86\n",
      "Bigram tagger 0.13\n"
     ]
    },
    {
     "name": "stderr",
     "output_type": "stream",
     "text": [
      "C:\\Users\\User\\AppData\\Local\\Temp\\ipykernel_11072\\1525772659.py:148: DeprecationWarning: \n",
      "  Function evaluate() has been deprecated.  Use accuracy(gold)\n",
      "  instead.\n",
      "  print('Bigram tagger %.2f' %bt.evaluate(test_data))\n",
      "C:\\Users\\User\\AppData\\Local\\Temp\\ipykernel_11072\\1525772659.py:149: DeprecationWarning: \n",
      "  Function evaluate() has been deprecated.  Use accuracy(gold)\n",
      "  instead.\n",
      "  print('Trigram tagger %.2f' %tt.evaluate(test_data))\n"
     ]
    },
    {
     "name": "stdout",
     "output_type": "stream",
     "text": [
      "Trigram tagger 0.08\n"
     ]
    },
    {
     "name": "stderr",
     "output_type": "stream",
     "text": [
      "C:\\Users\\User\\AppData\\Local\\Temp\\ipykernel_11072\\1525772659.py:150: DeprecationWarning: \n",
      "  Function evaluate() has been deprecated.  Use accuracy(gold)\n",
      "  instead.\n",
      "  print('Combined tagger %.2f' %ct.evaluate(test_data))\n"
     ]
    },
    {
     "name": "stdout",
     "output_type": "stream",
     "text": [
      "Combined tagger 0.91\n"
     ]
    },
    {
     "name": "stderr",
     "output_type": "stream",
     "text": [
      "C:\\Users\\User\\AppData\\Local\\Temp\\ipykernel_11072\\1525772659.py:151: DeprecationWarning: \n",
      "  Function evaluate() has been deprecated.  Use accuracy(gold)\n",
      "  instead.\n",
      "  print('Naive Bayes tagger %.2f' %nbt.evaluate(test_data))\n"
     ]
    },
    {
     "name": "stdout",
     "output_type": "stream",
     "text": [
      "Naive Bayes tagger 0.93\n"
     ]
    },
    {
     "name": "stderr",
     "output_type": "stream",
     "text": [
      "C:\\Users\\User\\AppData\\Local\\Temp\\ipykernel_11072\\1525772659.py:152: DeprecationWarning: \n",
      "  Function evaluate() has been deprecated.  Use accuracy(gold)\n",
      "  instead.\n",
      "  print('Maxent tagger %.2f' %met.evaluate(test_data))\n"
     ]
    },
    {
     "name": "stdout",
     "output_type": "stream",
     "text": [
      "Maxent tagger 0.93\n"
     ]
    }
   ],
   "source": [
    "# 3. \n",
    "\n",
    "# -*- coding: utf-8 -*-\n",
    "\"\"\"\n",
    "Created July 2017\n",
    "\n",
    "@author: arw\n",
    "\"\"\"\n",
    "\n",
    "sentence = \"I saw the man with the telescope but he didn't see me\"\n",
    "\n",
    "\n",
    "# Using NLTK's built-in tagger based on PTB\n",
    "import nltk\n",
    "tokens = nltk.word_tokenize(sentence)\n",
    "tagged_sent = nltk.pos_tag(tokens, tagset='universal')\n",
    "print(tagged_sent)\n",
    "\n",
    "    \n",
    "# Using the pattern package (Python 2.x only) built-in tagger (optional)\n",
    "# from pattern.en import tag\n",
    "# tagged_sent = tag(sentence)\n",
    "# print(tagged_sent)\n",
    "\n",
    "\n",
    "\n",
    "# Building your own tagger\n",
    "# - default tagger that tags all words the same!\n",
    "# - regex tagger that doesn't care about context (most common tag per word)\n",
    "\n",
    "# Fortunately the treebank corpus is bundled with NLTK for training a tagger\n",
    "# We need to divide the data into training and test sets first\n",
    "from nltk.corpus import treebank\n",
    "data = treebank.tagged_sents()\n",
    "train_data = data[:3500]\n",
    "test_data = data[3500:]\n",
    "print(train_data[0])\n",
    "\n",
    "# SAQ 1: How much data is there for training, testing?\n",
    "# SAQ 2: What is the last training sentence; test sentence?\n",
    "\n",
    "# Default 'naive' tagger - tags all words with a given tag!\n",
    "from nltk.tag import DefaultTagger\n",
    "dt = DefaultTagger('NN') # Can specify any default tag - NN gives best score - why?\n",
    "\n",
    "# Test score and example sentence tag output\n",
    "print(dt.evaluate(test_data))\n",
    "print(dt.tag(tokens))\n",
    "\n",
    "\n",
    "# Regex tagger\n",
    "from nltk.tag import RegexpTagger\n",
    "# Define 'fixed' regex tag patterns\n",
    "patterns = [\n",
    "        (r'.*ing$', 'VBG'),               # gerunds\n",
    "        (r'.*ed$', 'VBD'),                # simple past\n",
    "        (r'.*es$', 'VBZ'),                # 3rd singular present\n",
    "        (r'.*ould$', 'MD'),               # modals\n",
    "        (r'.*\\'s$', 'NN$'),               # possessive nouns\n",
    "        (r'.*s$', 'NNS'),                 # plural nouns\n",
    "        (r'^-?[0-9]+(.[0-9]+)?$', 'CD'),  # cardinal numbers\n",
    "        (r'.*', 'NN')                     # nouns (default) ... \n",
    "]\n",
    "rt = RegexpTagger(patterns)\n",
    "\n",
    "# Test score and example sentence tag output\n",
    "print(rt.evaluate(test_data))\n",
    "print(rt.tag(tokens))\n",
    "\n",
    "\n",
    "# Training your own tagger\n",
    "# 1. using n-gram taggers and combining them with backoff\n",
    "# 2. using naive bayes (statistical) model\n",
    "# 3. using maximum entropy (classifier) model\n",
    "\n",
    "## N gram taggers\n",
    "from nltk.tag import UnigramTagger # Context insentitive\n",
    "from nltk.tag import BigramTagger  # Considers previous word\n",
    "from nltk.tag import TrigramTagger # Considers previous 2 words\n",
    "\n",
    "# Traing the taggers\n",
    "ut = UnigramTagger(train_data)\n",
    "bt = BigramTagger(train_data)\n",
    "tt = TrigramTagger(train_data)\n",
    "\n",
    "# Test UnigramTagger score and example sentence tag output\n",
    "print(ut.evaluate(test_data))\n",
    "print(ut.tag(tokens))\n",
    "\n",
    "# Test BigramTagger score and example sentence tag output\n",
    "print(bt.evaluate(test_data))\n",
    "print(bt.tag(tokens))\n",
    "\n",
    "# Test TrigramTagger score and example sentence tag output\n",
    "print(tt.evaluate(test_data))\n",
    "print(tt.tag(tokens))\n",
    "\n",
    "# Combining all 3 n-gram taggers with backoff (smoothing)\n",
    "def combined_tagger(train_data, taggers, backoff=None):\n",
    "    for tagger in taggers:\n",
    "        backoff = tagger(train_data, backoff=backoff)\n",
    "    return backoff\n",
    "\n",
    "ct = combined_tagger(train_data=train_data, \n",
    "                     taggers=[UnigramTagger, BigramTagger, TrigramTagger],\n",
    "                     backoff=rt)\n",
    "\n",
    "# Test Combined n-gram tagger score and example sentence tag output\n",
    "print(ct.evaluate(test_data))       \n",
    "print(ct.tag(tokens))\n",
    "\n",
    "\n",
    "\n",
    "# Treating POS tagging as a classification problem\n",
    "# We use the ClassifierBasedPOSTagger class to build a classifier by specifying some\n",
    "# classification algorithm - here the NaiveBayes abd Maxent algorithms which are passed\n",
    "# to the class via the classifier_builder parameter\n",
    "from nltk.classify import NaiveBayesClassifier, MaxentClassifier\n",
    "from nltk.tag.sequential import ClassifierBasedPOSTagger\n",
    "\n",
    "# First a Naive Bayes (statistical) classifier\n",
    "nbt = ClassifierBasedPOSTagger(train=train_data,\n",
    "                               classifier_builder=NaiveBayesClassifier.train)\n",
    "\n",
    "# Test NBC tagger score and example sentence tag output\n",
    "print(nbt.evaluate(test_data))\n",
    "print(nbt.tag(tokens))    \n",
    "\n",
    "\n",
    "# Finally a Maximum entropy classifier (that would take sometime)\n",
    "# met = ClassifierBasedPOSTagger(train=train_data,\n",
    "#                               classifier_builder=MaxentClassifier.train)\n",
    "\n",
    "met = ClassifierBasedPOSTagger(train=train_data, \n",
    "                               classifier_builder=lambda train_feats: MaxentClassifier.train(train_feats, max_iter=10))\n",
    "\n",
    "# Test Maxent tagger score and example sentence tag output\n",
    "print(met.evaluate(test_data))                           \n",
    "print(met.tag(tokens))\n",
    "\n",
    "\n",
    "# Final accuracies\n",
    "print('Tagger accuracies:')\n",
    "print()\n",
    "print('Default tagger %.2f' %dt.evaluate(test_data))\n",
    "print('Regex tagger %.2f' %rt.evaluate(test_data))\n",
    "print('Unigram tagger %.2f' %ut.evaluate(test_data))\n",
    "print('Bigram tagger %.2f' %bt.evaluate(test_data))\n",
    "print('Trigram tagger %.2f' %tt.evaluate(test_data))\n",
    "print('Combined tagger %.2f' %ct.evaluate(test_data))\n",
    "print('Naive Bayes tagger %.2f' %nbt.evaluate(test_data))\n",
    "print('Maxent tagger %.2f' %met.evaluate(test_data))\n"
   ]
  },
  {
   "cell_type": "code",
   "execution_count": null,
   "id": "0ce48ed4-60af-4eab-93d3-1d1ddd8b7bdc",
   "metadata": {
    "collapsed": true,
    "jupyter": {
     "outputs_hidden": true
    }
   },
   "outputs": [],
   "source": []
  }
 ],
 "metadata": {
  "kernelspec": {
   "display_name": "Python 3 (ipykernel)",
   "language": "python",
   "name": "python3"
  },
  "language_info": {
   "codemirror_mode": {
    "name": "ipython",
    "version": 3
   },
   "file_extension": ".py",
   "mimetype": "text/x-python",
   "name": "python",
   "nbconvert_exporter": "python",
   "pygments_lexer": "ipython3",
   "version": "3.10.8"
  }
 },
 "nbformat": 4,
 "nbformat_minor": 5
}
